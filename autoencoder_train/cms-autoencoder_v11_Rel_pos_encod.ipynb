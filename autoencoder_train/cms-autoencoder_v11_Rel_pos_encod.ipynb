{
 "cells": [
  {
   "cell_type": "code",
   "execution_count": 1,
   "id": "3707c6e6",
   "metadata": {
    "_cell_guid": "b1076dfc-b9ad-4769-8c92-a6c4dae69d19",
    "_uuid": "8f2839f25d086af736a60e9eeb907d3b93b6e0e5",
    "execution": {
     "iopub.execute_input": "2025-03-30T09:50:37.705895Z",
     "iopub.status.busy": "2025-03-30T09:50:37.705503Z",
     "iopub.status.idle": "2025-03-30T09:50:37.709983Z",
     "shell.execute_reply": "2025-03-30T09:50:37.709269Z"
    },
    "papermill": {
     "duration": 0.010512,
     "end_time": "2025-03-30T09:50:37.711257",
     "exception": false,
     "start_time": "2025-03-30T09:50:37.700745",
     "status": "completed"
    },
    "tags": []
   },
   "outputs": [],
   "source": [
    "# This Python 3 environment comes with many helpful analytics libraries installed\n",
    "# It is defined by the kaggle/python Docker image: https://github.com/kaggle/docker-python\n",
    "# For example, here's several helpful packages to load\n",
    "\n",
    "# import numpy as np # linear algebra\n",
    "# import pandas as pd # data processing, CSV file I/O (e.g. pd.read_csv)\n",
    "\n",
    "# Input data files are available in the read-only \"../input/\" directory\n",
    "# For example, running this (by clicking run or pressing Shift+Enter) will list all files under the input directory\n",
    "\n",
    "# import os\n",
    "# for dirname, _, filenames in os.walk('/kaggle/input'):\n",
    "#     for filename in filenames:\n",
    "#         print(os.path.join(dirname, filename))\n",
    "\n",
    "# You can write up to 20GB to the current directory (/kaggle/working/) that gets preserved as output when you create a version using \"Save & Run All\" \n",
    "# You can also write temporary files to /kaggle/temp/, but they won't be saved outside of the current session"
   ]
  },
  {
   "cell_type": "code",
   "execution_count": 2,
   "id": "c5ea2128",
   "metadata": {
    "execution": {
     "iopub.execute_input": "2025-03-30T09:50:37.717600Z",
     "iopub.status.busy": "2025-03-30T09:50:37.717391Z",
     "iopub.status.idle": "2025-03-30T09:50:43.080126Z",
     "shell.execute_reply": "2025-03-30T09:50:43.079395Z"
    },
    "papermill": {
     "duration": 5.367427,
     "end_time": "2025-03-30T09:50:43.081663",
     "exception": false,
     "start_time": "2025-03-30T09:50:37.714236",
     "status": "completed"
    },
    "tags": []
   },
   "outputs": [],
   "source": [
    "import pandas as pd\n",
    "import numpy as np\n",
    "import torch\n",
    "import torch.nn as nn\n",
    "from torch.utils.data import Dataset, DataLoader\n",
    "# from sklearn.preprocessing import StandardScaler\n",
    "from sklearn.metrics import roc_auc_score\n",
    "import torch.nn.functional as F\n",
    "import math"
   ]
  },
  {
   "cell_type": "code",
   "execution_count": 3,
   "id": "761cedc3",
   "metadata": {
    "execution": {
     "iopub.execute_input": "2025-03-30T09:50:43.088438Z",
     "iopub.status.busy": "2025-03-30T09:50:43.088063Z",
     "iopub.status.idle": "2025-03-30T09:50:43.092178Z",
     "shell.execute_reply": "2025-03-30T09:50:43.091548Z"
    },
    "papermill": {
     "duration": 0.008722,
     "end_time": "2025-03-30T09:50:43.093333",
     "exception": false,
     "start_time": "2025-03-30T09:50:43.084611",
     "status": "completed"
    },
    "tags": []
   },
   "outputs": [],
   "source": [
    "class CustomDataset(Dataset):\n",
    "    def __init__(self, features, labels):\n",
    "        self.features = torch.FloatTensor(features)\n",
    "        self.labels = torch.FloatTensor(labels)\n",
    "        \n",
    "    def __len__(self):\n",
    "        return len(self.features)\n",
    "    \n",
    "    def __getitem__(self, idx):\n",
    "        return self.features[idx], self.labels[idx]"
   ]
  },
  {
   "cell_type": "code",
   "execution_count": 4,
   "id": "13d5bf58",
   "metadata": {
    "execution": {
     "iopub.execute_input": "2025-03-30T09:50:43.099444Z",
     "iopub.status.busy": "2025-03-30T09:50:43.099227Z",
     "iopub.status.idle": "2025-03-30T09:53:41.679842Z",
     "shell.execute_reply": "2025-03-30T09:53:41.679056Z"
    },
    "papermill": {
     "duration": 178.585494,
     "end_time": "2025-03-30T09:53:41.681609",
     "exception": false,
     "start_time": "2025-03-30T09:50:43.096115",
     "status": "completed"
    },
    "tags": []
   },
   "outputs": [],
   "source": [
    "data = pd.read_csv('/kaggle/input/higgs-dataset/HIGGS.csv/HIGGS.csv')\n",
    "features = data.iloc[:1100000, 1:22].values \n",
    "labels = data.iloc[:1100000, 0].values\n",
    "    \n",
    "train_features = features[:900000]            \n",
    "train_labels = labels[:900000]\n",
    "    \n",
    "val_features = features[900000:1000000]    \n",
    "val_labels = labels[900000:1000000]\n",
    "    \n",
    "test_features = features[1000000:] \n",
    "test_labels = labels[1000000:]\n",
    "\n",
    "train_dataset = CustomDataset(train_features, train_labels)\n",
    "val_dataset = CustomDataset(val_features, val_labels)\n",
    "test_dataset = CustomDataset(test_features, test_labels)\n",
    "\n",
    "train_loader = DataLoader(train_dataset, batch_size=64, shuffle=True)\n",
    "val_loader = DataLoader(val_dataset, batch_size=64, shuffle=False)\n",
    "test_loader = DataLoader(test_dataset, batch_size=64, shuffle=False)"
   ]
  },
  {
   "cell_type": "code",
   "execution_count": 5,
   "id": "ed7d4996",
   "metadata": {
    "execution": {
     "iopub.execute_input": "2025-03-30T09:53:41.688863Z",
     "iopub.status.busy": "2025-03-30T09:53:41.688561Z",
     "iopub.status.idle": "2025-03-30T09:53:41.697804Z",
     "shell.execute_reply": "2025-03-30T09:53:41.697130Z"
    },
    "papermill": {
     "duration": 0.013927,
     "end_time": "2025-03-30T09:53:41.699002",
     "exception": false,
     "start_time": "2025-03-30T09:53:41.685075",
     "status": "completed"
    },
    "tags": []
   },
   "outputs": [],
   "source": [
    "# import math\n",
    "\n",
    "class RelativePositionalEncoding(nn.Module):\n",
    "    def __init__(self, d_model, max_len=5000):\n",
    "        super(RelativePositionalEncoding, self).__init__()\n",
    "        self.d_model = d_model\n",
    "        self.max_len = max_len\n",
    "        self.relative_positions = nn.Parameter(torch.randn(max_len, d_model))\n",
    "\n",
    "    def forward(self, x):\n",
    "        if x.dim() == 2:  \n",
    "            x = x.unsqueeze(1)\n",
    "        seq_len = x.size(1)\n",
    "        return x + self.relative_positions[:seq_len, :].unsqueeze(0)\n",
    "        \n",
    "class ComplexTransformerAutoencoder(nn.Module):\n",
    "    def __init__(self, \n",
    "                 input_dim=21,\n",
    "                 d_model=256,\n",
    "                 nhead=8,\n",
    "                 num_encoder_layers=6,\n",
    "                 dim_feedforward=512,\n",
    "                 dropout=0.2,\n",
    "                 activation=\"gelu\"):\n",
    "        super(ComplexTransformerAutoencoder, self).__init__()\n",
    "        \n",
    "        # self.input_embedding = nn.Sequential(\n",
    "        #     nn.Linear(input_dim, d_model//2),\n",
    "        #     nn.LayerNorm(d_model//2),\n",
    "        #     nn.SiLU(),\n",
    "        #     nn.Dropout(dropout),\n",
    "        #     nn.Linear(d_model//2, d_model),\n",
    "        #     nn.LayerNorm(d_model)\n",
    "        # )\n",
    "        self.input_embedding = nn.Linear(input_dim, d_model)\n",
    "        self.pos_encoding = RelativePositionalEncoding(d_model)\n",
    "        \n",
    "        encoder_layer = nn.TransformerEncoderLayer(\n",
    "            d_model=d_model,\n",
    "            nhead=nhead,\n",
    "            dim_feedforward=dim_feedforward,\n",
    "            dropout=dropout,\n",
    "            activation=activation,\n",
    "            batch_first=True\n",
    "        )\n",
    "        self.transformer_encoder = nn.TransformerEncoder(\n",
    "            encoder_layer, \n",
    "            num_layers=num_encoder_layers,\n",
    "            norm=nn.LayerNorm(d_model)\n",
    "        )\n",
    "        \n",
    "        self.decoder_head = nn.Sequential(\n",
    "            nn.Linear(d_model, dim_feedforward),\n",
    "            nn.BatchNorm1d(dim_feedforward),\n",
    "            nn.SiLU(),\n",
    "            nn.Dropout(dropout),\n",
    "            nn.Linear(dim_feedforward, dim_feedforward // 2),\n",
    "            nn.BatchNorm1d(dim_feedforward // 2),\n",
    "            nn.SiLU(),\n",
    "            nn.Dropout(dropout * 0.5),\n",
    "            nn.Linear(dim_feedforward // 2, input_dim),\n",
    "            nn.Sigmoid()\n",
    "        )\n",
    "        \n",
    "        self.classifier = nn.Sequential(\n",
    "            nn.Linear(d_model, dim_feedforward),\n",
    "            nn.BatchNorm1d(dim_feedforward),\n",
    "            nn.SiLU(),\n",
    "            nn.Dropout(dropout),\n",
    "            nn.Linear(dim_feedforward, 128), \n",
    "            nn.BatchNorm1d(128),\n",
    "            nn.SiLU(),\n",
    "            nn.Dropout(dropout * 0.5),\n",
    "            nn.Linear(128, 64),\n",
    "            nn.BatchNorm1d(64),\n",
    "            nn.SiLU(),\n",
    "            nn.Dropout(dropout * 0.5),\n",
    "            nn.Linear(64, 1),\n",
    "            nn.Sigmoid()\n",
    "        )\n",
    "        \n",
    "    def forward(self, x):\n",
    "        batch_size = x.size(0)\n",
    "        \n",
    "        x_embed = self.input_embedding(x)\n",
    "        # print(\"Embed shape\",x_embed.shape)\n",
    "        # x_embed = self.pos_encoding(x_embed)\n",
    "        # print(\"Embed shape\",x_embed.shape)\n",
    "        # if len(x.shape) == 2:\n",
    "        #     x = x.unsqueeze(1)\n",
    "        x_embed = x_embed.squeeze(1)\n",
    "        encoded = self.transformer_encoder(x_embed)\n",
    "        # print(\"Encoded shape\",encoded.shape)\n",
    "        # print(\"Encoded squeeze shape\",encoded.squeeze(1).shape)\n",
    "        # print(\"Encoded mean shape\",encoded.mean(dim=1).shape)\n",
    "        \n",
    "        reconstruction = self.decoder_head(encoded)  \n",
    "        \n",
    "        classification = self.classifier(encoded) \n",
    "\n",
    "        reconstruction = reconstruction.view(batch_size, -1)  \n",
    "        return reconstruction, classification"
   ]
  },
  {
   "cell_type": "code",
   "execution_count": 6,
   "id": "a791239e",
   "metadata": {
    "execution": {
     "iopub.execute_input": "2025-03-30T09:53:41.705098Z",
     "iopub.status.busy": "2025-03-30T09:53:41.704879Z",
     "iopub.status.idle": "2025-03-30T09:53:41.763424Z",
     "shell.execute_reply": "2025-03-30T09:53:41.762704Z"
    },
    "papermill": {
     "duration": 0.063446,
     "end_time": "2025-03-30T09:53:41.765135",
     "exception": false,
     "start_time": "2025-03-30T09:53:41.701689",
     "status": "completed"
    },
    "tags": []
   },
   "outputs": [],
   "source": [
    "model = ComplexTransformerAutoencoder()"
   ]
  },
  {
   "cell_type": "code",
   "execution_count": 7,
   "id": "aebacecf",
   "metadata": {
    "execution": {
     "iopub.execute_input": "2025-03-30T09:53:41.771816Z",
     "iopub.status.busy": "2025-03-30T09:53:41.771553Z",
     "iopub.status.idle": "2025-03-30T09:53:41.774587Z",
     "shell.execute_reply": "2025-03-30T09:53:41.773956Z"
    },
    "papermill": {
     "duration": 0.00761,
     "end_time": "2025-03-30T09:53:41.775803",
     "exception": false,
     "start_time": "2025-03-30T09:53:41.768193",
     "status": "completed"
    },
    "tags": []
   },
   "outputs": [],
   "source": [
    "model_path = '/kaggle/input/complexautoencoder-epoch-30/pytorch/default/1/higgs_complex_autoencoder (2).pth'\n",
    "# model.load_state_dict(torch.load(model_path))\n"
   ]
  },
  {
   "cell_type": "code",
   "execution_count": 8,
   "id": "e941aa15",
   "metadata": {
    "execution": {
     "iopub.execute_input": "2025-03-30T09:53:41.781865Z",
     "iopub.status.busy": "2025-03-30T09:53:41.781638Z",
     "iopub.status.idle": "2025-03-30T09:53:45.509626Z",
     "shell.execute_reply": "2025-03-30T09:53:45.508746Z"
    },
    "papermill": {
     "duration": 3.732956,
     "end_time": "2025-03-30T09:53:45.511438",
     "exception": false,
     "start_time": "2025-03-30T09:53:41.778482",
     "status": "completed"
    },
    "tags": []
   },
   "outputs": [],
   "source": [
    "device = torch.device(\"cuda\" if torch.cuda.is_available() else \"cpu\")\n",
    "model = model.to(device)\n",
    "optimizer = torch.optim.AdamW(model.parameters(), lr=0.001, weight_decay=0.01)\n",
    "scheduler = torch.optim.lr_scheduler.CosineAnnealingWarmRestarts(optimizer, T_0=10, T_mult=2)"
   ]
  },
  {
   "cell_type": "code",
   "execution_count": 9,
   "id": "a79b15b9",
   "metadata": {
    "execution": {
     "iopub.execute_input": "2025-03-30T09:53:45.518641Z",
     "iopub.status.busy": "2025-03-30T09:53:45.518213Z",
     "iopub.status.idle": "2025-03-30T09:53:45.523130Z",
     "shell.execute_reply": "2025-03-30T09:53:45.522449Z"
    },
    "papermill": {
     "duration": 0.009644,
     "end_time": "2025-03-30T09:53:45.524242",
     "exception": false,
     "start_time": "2025-03-30T09:53:45.514598",
     "status": "completed"
    },
    "tags": []
   },
   "outputs": [],
   "source": [
    "class FocalLoss(nn.Module):\n",
    "    def __init__(self, alpha=1, gamma=2, reduction='mean'):\n",
    "        super(FocalLoss, self).__init__()\n",
    "        self.alpha = alpha\n",
    "        self.gamma = gamma\n",
    "        self.reduction = reduction\n",
    "\n",
    "    def forward(self, inputs, targets):\n",
    "        BCE_loss = nn.BCEWithLogitsLoss(reduction='none')(inputs, targets)\n",
    "        pt = torch.exp(-BCE_loss)\n",
    "        F_loss = self.alpha * (1 - pt) ** self.gamma * BCE_loss\n",
    "        return F_loss.mean() if self.reduction == 'mean' else F_loss.sum()"
   ]
  },
  {
   "cell_type": "code",
   "execution_count": 10,
   "id": "55ce7de3",
   "metadata": {
    "execution": {
     "iopub.execute_input": "2025-03-30T09:53:45.530332Z",
     "iopub.status.busy": "2025-03-30T09:53:45.530124Z",
     "iopub.status.idle": "2025-03-30T10:29:38.731536Z",
     "shell.execute_reply": "2025-03-30T10:29:38.730608Z"
    },
    "papermill": {
     "duration": 2153.207996,
     "end_time": "2025-03-30T10:29:38.734978",
     "exception": false,
     "start_time": "2025-03-30T09:53:45.526982",
     "status": "completed"
    },
    "tags": []
   },
   "outputs": [
    {
     "name": "stdout",
     "output_type": "stream",
     "text": [
      "Epoch [1/10]\n",
      "Training Loss: 0.5851\n",
      "Validation Loss: 0.5649\n",
      "ROC-AUC Score: 0.7145\n",
      "\n",
      "Epoch [2/10]\n",
      "Training Loss: 0.5685\n",
      "Validation Loss: 0.5563\n",
      "ROC-AUC Score: 0.7344\n",
      "\n",
      "Epoch [3/10]\n",
      "Training Loss: 0.5628\n",
      "Validation Loss: 0.5528\n",
      "ROC-AUC Score: 0.7405\n",
      "\n",
      "Epoch [4/10]\n",
      "Training Loss: 0.5590\n",
      "Validation Loss: 0.5515\n",
      "ROC-AUC Score: 0.7437\n",
      "\n",
      "Epoch [5/10]\n",
      "Training Loss: 0.5557\n",
      "Validation Loss: 0.5485\n",
      "ROC-AUC Score: 0.7500\n",
      "\n",
      "Epoch [6/10]\n",
      "Training Loss: 0.5526\n",
      "Validation Loss: 0.5443\n",
      "ROC-AUC Score: 0.7582\n",
      "\n",
      "Epoch [7/10]\n",
      "Training Loss: 0.5491\n",
      "Validation Loss: 0.5420\n",
      "ROC-AUC Score: 0.7630\n",
      "\n",
      "Epoch [8/10]\n",
      "Training Loss: 0.5460\n",
      "Validation Loss: 0.5395\n",
      "ROC-AUC Score: 0.7679\n",
      "\n",
      "Epoch [9/10]\n",
      "Training Loss: 0.5435\n",
      "Validation Loss: 0.5374\n",
      "ROC-AUC Score: 0.7711\n",
      "\n",
      "Epoch [10/10]\n",
      "Training Loss: 0.5418\n",
      "Validation Loss: 0.5364\n",
      "ROC-AUC Score: 0.7734\n",
      "\n"
     ]
    }
   ],
   "source": [
    "recon_criterion = nn.MSELoss()\n",
    "class_criterion = nn.BCELoss()\n",
    "# class_criterion = FocalLoss()\n",
    "\n",
    "train_losses = []\n",
    "val_losses = []\n",
    "num_epochs = 10\n",
    "for epoch in range(num_epochs):\n",
    "    model.train()\n",
    "    total_loss = 0\n",
    "        \n",
    "    for batch_idx, (features, labels) in enumerate(train_loader):\n",
    "        features, labels = features.to(device), labels.to(device)\n",
    "            \n",
    "        reconstruction, classification = model(features)\n",
    "            \n",
    "        features = features.view(features.size(0), -1)  \n",
    "        reconstruction = reconstruction.view(reconstruction.size(0), -1)  \n",
    "            \n",
    "        recon_loss = recon_criterion(reconstruction, features)\n",
    "        class_loss = class_criterion(classification.squeeze(), labels)\n",
    "        \n",
    "        loss = 0.5*recon_loss + 0.5*class_loss\n",
    "\n",
    "        optimizer.zero_grad()\n",
    "        loss.backward()\n",
    "            \n",
    "        # torch.nn.utils.clip_grad_norm_(model.parameters(), max_norm=1.0)\n",
    "            \n",
    "        optimizer.step()\n",
    "        total_loss += loss.item()\n",
    "        # break\n",
    "    train_losses.append(total_loss/len(train_loader))\n",
    "    scheduler.step()\n",
    "        \n",
    "    # Validation phase\n",
    "    model.eval()\n",
    "    val_loss = 0\n",
    "    val_preds = []\n",
    "    val_true = []\n",
    "        \n",
    "    with torch.no_grad():\n",
    "        for features, labels in val_loader:\n",
    "            features, labels = features.to(device), labels.to(device)\n",
    "                \n",
    "            reconstruction, classification = model(features)\n",
    "                \n",
    "            features = features.view(features.size(0), -1)\n",
    "            reconstruction = reconstruction.view(reconstruction.size(0), -1)\n",
    "                \n",
    "            val_preds.extend(classification.squeeze().cpu().numpy())\n",
    "            val_true.extend(labels.cpu().numpy())\n",
    "                \n",
    "            recon_loss = recon_criterion(reconstruction, features)\n",
    "            class_loss = class_criterion(classification.squeeze(), labels)\n",
    "            val_loss += (0.5 * recon_loss + 0.5 * class_loss).item()\n",
    "            # break\n",
    "    val_losses.append(val_loss/len(val_loader))\n",
    "    roc_auc = roc_auc_score(val_true, val_preds)\n",
    "        \n",
    "    print(f'Epoch [{epoch+1}/{num_epochs}]')\n",
    "    print(f'Training Loss: {total_loss/len(train_loader):.4f}')\n",
    "    print(f'Validation Loss: {val_loss/len(val_loader):.4f}')\n",
    "    print(f'ROC-AUC Score: {roc_auc:.4f}\\n')"
   ]
  },
  {
   "cell_type": "code",
   "execution_count": 11,
   "id": "4a55e435",
   "metadata": {
    "execution": {
     "iopub.execute_input": "2025-03-30T10:29:38.742518Z",
     "iopub.status.busy": "2025-03-30T10:29:38.742243Z",
     "iopub.status.idle": "2025-03-30T10:29:38.787243Z",
     "shell.execute_reply": "2025-03-30T10:29:38.786152Z"
    },
    "papermill": {
     "duration": 0.050541,
     "end_time": "2025-03-30T10:29:38.788959",
     "exception": false,
     "start_time": "2025-03-30T10:29:38.738418",
     "status": "completed"
    },
    "tags": []
   },
   "outputs": [],
   "source": [
    "torch.save(model.state_dict(), \"higgs_complex_autoencoder_v3.pth\")"
   ]
  },
  {
   "cell_type": "code",
   "execution_count": 12,
   "id": "e7ee6771",
   "metadata": {
    "execution": {
     "iopub.execute_input": "2025-03-30T10:29:38.796639Z",
     "iopub.status.busy": "2025-03-30T10:29:38.796362Z",
     "iopub.status.idle": "2025-03-30T10:29:39.067206Z",
     "shell.execute_reply": "2025-03-30T10:29:39.066297Z"
    },
    "papermill": {
     "duration": 0.276001,
     "end_time": "2025-03-30T10:29:39.068570",
     "exception": false,
     "start_time": "2025-03-30T10:29:38.792569",
     "status": "completed"
    },
    "tags": []
   },
   "outputs": [
    {
     "data": {
      "image/png": "[encoded data removed]",
      "text/plain": [
       "<Figure size 800x500 with 1 Axes>"
      ]
     },
     "metadata": {},
     "output_type": "display_data"
    }
   ],
   "source": [
    "import matplotlib.pyplot as plt\n",
    "\n",
    "plt.figure(figsize=(8, 5))\n",
    "plt.plot(range(1, num_epochs+1), train_losses, label='Train Loss', color='blue', linestyle='-')\n",
    "plt.plot(range(1, num_epochs+1), val_losses, label='Validation Loss', color='red', linestyle='--')\n",
    "\n",
    "plt.xlabel('Epochs')\n",
    "plt.ylabel('Loss')\n",
    "plt.title('Training & Validation Loss Over Epochs')\n",
    "plt.legend()\n",
    "plt.show()"
   ]
  },
  {
   "cell_type": "code",
   "execution_count": 13,
   "id": "97989ce9",
   "metadata": {
    "execution": {
     "iopub.execute_input": "2025-03-30T10:29:39.077796Z",
     "iopub.status.busy": "2025-03-30T10:29:39.077514Z",
     "iopub.status.idle": "2025-03-30T10:29:46.817248Z",
     "shell.execute_reply": "2025-03-30T10:29:46.816250Z"
    },
    "papermill": {
     "duration": 7.745734,
     "end_time": "2025-03-30T10:29:46.818842",
     "exception": false,
     "start_time": "2025-03-30T10:29:39.073108",
     "status": "completed"
    },
    "tags": []
   },
   "outputs": [
    {
     "data": {
      "image/png": "[encoded data removed]",
      "text/plain": [
       "<Figure size 1500x600 with 3 Axes>"
      ]
     },
     "metadata": {},
     "output_type": "display_data"
    },
    {
     "name": "stdout",
     "output_type": "stream",
     "text": [
      "AUC Score: 0.7740\n",
      "Optimal Threshold: 0.5028\n",
      "Precision: 0.7109\n",
      "Recall: 0.7416\n",
      "F1 Score: 0.7259\n",
      "Accuracy: 0.7043\n"
     ]
    }
   ],
   "source": [
    "from sklearn.metrics import roc_curve, auc, roc_auc_score, confusion_matrix\n",
    "import seaborn as sns\n",
    "\n",
    "# Final evaluation on test set\n",
    "model.eval()\n",
    "test_preds = []\n",
    "test_true = []\n",
    "    \n",
    "with torch.no_grad():\n",
    "    for features, labels in test_loader:\n",
    "        features = features.to(device)\n",
    "        _, classification = model(features)\n",
    "        test_preds.extend(classification.squeeze().cpu().numpy())\n",
    "        test_true.extend(labels.numpy())\n",
    "\n",
    "y_true = np.array(test_true)\n",
    "y_scores = np.array(test_preds)\n",
    "\n",
    "fpr, tpr, thresholds = roc_curve(y_true, y_scores)\n",
    "roc_auc = auc(fpr, tpr)\n",
    "\n",
    "fig, (ax1, ax2) = plt.subplots(1, 2, figsize=(15, 6))\n",
    "    \n",
    "# Plot ROC curve\n",
    "ax1.plot(fpr, tpr, color='darkorange', lw=2,label=f'ROC curve (AUC = {roc_auc:.2f})')\n",
    "ax1.plot([0, 1], [0, 1], color='navy', lw=2, linestyle='--')\n",
    "ax1.set_xlim([0.0, 1.0])\n",
    "ax1.set_ylim([0.0, 1.05])\n",
    "ax1.set_xlabel('False Positive Rate')\n",
    "ax1.set_ylabel('True Positive Rate')\n",
    "ax1.set_title('Receiver Operating Characteristic (ROC) Curve')\n",
    "ax1.legend(loc=\"lower right\")\n",
    "    \n",
    "y_pred = (y_scores >= 0.5).astype(int)\n",
    "    \n",
    "# Compute Confusion Matrix\n",
    "cm = confusion_matrix(y_true, y_pred)\n",
    "sns.heatmap(cm, annot=True, fmt='d', cmap='Blues', ax=ax2)\n",
    "ax2.set_xlabel('Predicted Label')\n",
    "ax2.set_ylabel('True Label')\n",
    "ax2.set_title('Confusion Matrix')\n",
    "    \n",
    "plt.tight_layout()\n",
    "plt.show()\n",
    "    \n",
    "# Calculate additional metrics\n",
    "optimal_idx = np.argmax(tpr - fpr)\n",
    "optimal_threshold = thresholds[optimal_idx]\n",
    "    \n",
    "# Compute precision, recall, F1 score\n",
    "from sklearn.metrics import precision_score, recall_score, f1_score\n",
    "precision = precision_score(y_true, y_pred)\n",
    "recall = recall_score(y_true, y_pred)\n",
    "f1 = f1_score(y_true, y_pred)\n",
    "    \n",
    "print(f\"AUC Score: {roc_auc:.4f}\")\n",
    "print(f\"Optimal Threshold: {optimal_threshold:.4f}\")\n",
    "print(f\"Precision: {precision:.4f}\")\n",
    "print(f\"Recall: {recall:.4f}\")\n",
    "print(f\"F1 Score: {f1:.4f}\")\n",
    "print(f\"Accuracy: {np.mean(y_pred == y_true):.4f}\")"
   ]
  }
 ],
 "metadata": {
  "kaggle": {
   "accelerator": "gpu",
   "dataSources": [
    {
     "datasetId": 6983024,
     "sourceId": 11186338,
     "sourceType": "datasetVersion"
    },
    {
     "isSourceIdPinned": true,
     "modelId": 282999,
     "modelInstanceId": 261855,
     "sourceId": 307276,
     "sourceType": "modelInstanceVersion"
    }
   ],
   "dockerImageVersionId": 30919,
   "isGpuEnabled": true,
   "isInternetEnabled": true,
   "language": "python",
   "sourceType": "notebook"
  },
  "kernelspec": {
   "display_name": "Python 3",
   "language": "python",
   "name": "python3"
  },
  "language_info": {
   "codemirror_mode": {
    "name": "ipython",
    "version": 3
   },
   "file_extension": ".py",
   "mimetype": "text/x-python",
   "name": "python",
   "nbconvert_exporter": "python",
   "pygments_lexer": "ipython3",
   "version": "3.10.12"
  },
  "papermill": {
   "default_parameters": {},
   "duration": 2353.55184,
   "end_time": "2025-03-30T10:29:48.650107",
   "environment_variables": {},
   "exception": null,
   "input_path": "__notebook__.ipynb",
   "output_path": "__notebook__.ipynb",
   "parameters": {},
   "start_time": "2025-03-30T09:50:35.098267",
   "version": "2.6.0"
  }
 },
 "nbformat": 4,
 "nbformat_minor": 5
}
