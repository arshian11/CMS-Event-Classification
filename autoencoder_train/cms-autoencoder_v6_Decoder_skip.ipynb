{
 "cells": [
  {
   "cell_type": "code",
   "execution_count": 1,
   "id": "73c2e1b3",
   "metadata": {
    "_cell_guid": "b1076dfc-b9ad-4769-8c92-a6c4dae69d19",
    "_uuid": "8f2839f25d086af736a60e9eeb907d3b93b6e0e5",
    "execution": {
     "iopub.execute_input": "2025-03-29T23:57:29.771979Z",
     "iopub.status.busy": "2025-03-29T23:57:29.771711Z",
     "iopub.status.idle": "2025-03-29T23:57:29.775826Z",
     "shell.execute_reply": "2025-03-29T23:57:29.775207Z"
    },
    "papermill": {
     "duration": 0.009273,
     "end_time": "2025-03-29T23:57:29.776991",
     "exception": false,
     "start_time": "2025-03-29T23:57:29.767718",
     "status": "completed"
    },
    "tags": []
   },
   "outputs": [],
   "source": [
    "# This Python 3 environment comes with many helpful analytics libraries installed\n",
    "# It is defined by the kaggle/python Docker image: https://github.com/kaggle/docker-python\n",
    "# For example, here's several helpful packages to load\n",
    "\n",
    "# import numpy as np # linear algebra\n",
    "# import pandas as pd # data processing, CSV file I/O (e.g. pd.read_csv)\n",
    "\n",
    "# Input data files are available in the read-only \"../input/\" directory\n",
    "# For example, running this (by clicking run or pressing Shift+Enter) will list all files under the input directory\n",
    "\n",
    "# import os\n",
    "# for dirname, _, filenames in os.walk('/kaggle/input'):\n",
    "#     for filename in filenames:\n",
    "#         print(os.path.join(dirname, filename))\n",
    "\n",
    "# You can write up to 20GB to the current directory (/kaggle/working/) that gets preserved as output when you create a version using \"Save & Run All\" \n",
    "# You can also write temporary files to /kaggle/temp/, but they won't be saved outside of the current session"
   ]
  },
  {
   "cell_type": "code",
   "execution_count": 2,
   "id": "90ba5787",
   "metadata": {
    "execution": {
     "iopub.execute_input": "2025-03-29T23:57:29.782939Z",
     "iopub.status.busy": "2025-03-29T23:57:29.782731Z",
     "iopub.status.idle": "2025-03-29T23:57:34.824385Z",
     "shell.execute_reply": "2025-03-29T23:57:34.823726Z"
    },
    "papermill": {
     "duration": 5.046191,
     "end_time": "2025-03-29T23:57:34.826021",
     "exception": false,
     "start_time": "2025-03-29T23:57:29.779830",
     "status": "completed"
    },
    "tags": []
   },
   "outputs": [],
   "source": [
    "import pandas as pd\n",
    "import numpy as np\n",
    "import torch\n",
    "import torch.nn as nn\n",
    "from torch.utils.data import Dataset, DataLoader\n",
    "# from sklearn.preprocessing import StandardScaler\n",
    "from sklearn.metrics import roc_auc_score\n",
    "import torch.nn.functional as F\n",
    "import math"
   ]
  },
  {
   "cell_type": "code",
   "execution_count": 3,
   "id": "b1de02f4",
   "metadata": {
    "execution": {
     "iopub.execute_input": "2025-03-29T23:57:34.832461Z",
     "iopub.status.busy": "2025-03-29T23:57:34.832111Z",
     "iopub.status.idle": "2025-03-29T23:57:34.836320Z",
     "shell.execute_reply": "2025-03-29T23:57:34.835559Z"
    },
    "papermill": {
     "duration": 0.008699,
     "end_time": "2025-03-29T23:57:34.837662",
     "exception": false,
     "start_time": "2025-03-29T23:57:34.828963",
     "status": "completed"
    },
    "tags": []
   },
   "outputs": [],
   "source": [
    "class CustomDataset(Dataset):\n",
    "    def __init__(self, features, labels):\n",
    "        self.features = torch.FloatTensor(features)\n",
    "        self.labels = torch.FloatTensor(labels)\n",
    "        \n",
    "    def __len__(self):\n",
    "        return len(self.features)\n",
    "    \n",
    "    def __getitem__(self, idx):\n",
    "        return self.features[idx], self.labels[idx]"
   ]
  },
  {
   "cell_type": "code",
   "execution_count": 4,
   "id": "2bb169f7",
   "metadata": {
    "execution": {
     "iopub.execute_input": "2025-03-29T23:57:34.843621Z",
     "iopub.status.busy": "2025-03-29T23:57:34.843379Z",
     "iopub.status.idle": "2025-03-29T23:59:53.679411Z",
     "shell.execute_reply": "2025-03-29T23:59:53.678642Z"
    },
    "papermill": {
     "duration": 138.840776,
     "end_time": "2025-03-29T23:59:53.681151",
     "exception": false,
     "start_time": "2025-03-29T23:57:34.840375",
     "status": "completed"
    },
    "tags": []
   },
   "outputs": [],
   "source": [
    "data = pd.read_csv('/kaggle/input/higgs-dataset/HIGGS.csv/HIGGS.csv')\n",
    "features = data.iloc[:1100000, 1:22].values \n",
    "labels = data.iloc[:1100000, 0].values\n",
    "    \n",
    "train_features = features[:900000]            \n",
    "train_labels = labels[:900000]\n",
    "    \n",
    "val_features = features[900000:1000000]    \n",
    "val_labels = labels[900000:1000000]\n",
    "    \n",
    "test_features = features[1000000:] \n",
    "test_labels = labels[1000000:]\n",
    "\n",
    "train_dataset = CustomDataset(train_features, train_labels)\n",
    "val_dataset = CustomDataset(val_features, val_labels)\n",
    "test_dataset = CustomDataset(test_features, test_labels)\n",
    "\n",
    "train_loader = DataLoader(train_dataset, batch_size=64, shuffle=True)\n",
    "val_loader = DataLoader(val_dataset, batch_size=64, shuffle=False)\n",
    "test_loader = DataLoader(test_dataset, batch_size=64, shuffle=False)"
   ]
  },
  {
   "cell_type": "code",
   "execution_count": 5,
   "id": "ab95d88d",
   "metadata": {
    "execution": {
     "iopub.execute_input": "2025-03-29T23:59:53.688095Z",
     "iopub.status.busy": "2025-03-29T23:59:53.687842Z",
     "iopub.status.idle": "2025-03-29T23:59:53.696221Z",
     "shell.execute_reply": "2025-03-29T23:59:53.695605Z"
    },
    "papermill": {
     "duration": 0.013086,
     "end_time": "2025-03-29T23:59:53.697427",
     "exception": false,
     "start_time": "2025-03-29T23:59:53.684341",
     "status": "completed"
    },
    "tags": []
   },
   "outputs": [],
   "source": [
    "# import math\n",
    "\n",
    "# class PositionalEncoding(nn.Module):\n",
    "#     def __init__(self, d_model, max_len=5000):\n",
    "#         super(PositionalEncoding, self).__init__()\n",
    "#         pe = torch.zeros(max_len, d_model)\n",
    "#         position = torch.arange(0, max_len, dtype=torch.float).unsqueeze(1)\n",
    "#         div_term = torch.exp(torch.arange(0, d_model, 2).float() * (-math.log(10000.0) / d_model))\n",
    "#         pe[:, 0::2] = torch.sin(position * div_term)\n",
    "#         pe[:, 1::2] = torch.cos(position * div_term)\n",
    "#         pe = pe.unsqueeze(0)\n",
    "#         self.register_buffer('pe', pe)\n",
    "\n",
    "#     def forward(self, x):\n",
    "#         if x.dim() == 2:  \n",
    "#             x = x.unsqueeze(1)  \n",
    "#         return x + self.pe[:, :x.size(1), :]\n",
    "        \n",
    "class ComplexTransformerAutoencoder(nn.Module):\n",
    "    def __init__(self, \n",
    "                 input_dim=21,\n",
    "                 d_model=256,\n",
    "                 nhead=8,\n",
    "                 num_encoder_layers=6,\n",
    "                 dim_feedforward=512,\n",
    "                 dropout=0.2,\n",
    "                 activation=\"gelu\"):\n",
    "        super(ComplexTransformerAutoencoder, self).__init__()\n",
    "        \n",
    "        self.input_embedding = nn.Sequential(\n",
    "            nn.Linear(input_dim, d_model//2),\n",
    "            nn.LayerNorm(d_model//2),\n",
    "            nn.SiLU(),\n",
    "            nn.Dropout(dropout),\n",
    "            nn.Linear(d_model//2, d_model),\n",
    "            nn.LayerNorm(d_model)\n",
    "        )\n",
    "        # self.input_embedding = nn.Linear(input_dim, d_model)\n",
    "        # self.pos_encoding = PositionalEncoding(d_model)\n",
    "        \n",
    "        encoder_layer = nn.TransformerEncoderLayer(\n",
    "            d_model=d_model,\n",
    "            nhead=nhead,\n",
    "            dim_feedforward=dim_feedforward,\n",
    "            dropout=dropout,\n",
    "            activation=activation,\n",
    "            batch_first=True\n",
    "        )\n",
    "        self.transformer_encoder = nn.TransformerEncoder(\n",
    "            encoder_layer, \n",
    "            num_layers=num_encoder_layers,\n",
    "            norm=nn.LayerNorm(d_model)\n",
    "        )\n",
    "        \n",
    "        self.decoder_head = nn.Sequential(\n",
    "            nn.Linear(d_model, dim_feedforward),\n",
    "            nn.BatchNorm1d(dim_feedforward),\n",
    "            nn.SiLU(),\n",
    "            nn.Dropout(dropout),\n",
    "            nn.Linear(dim_feedforward, dim_feedforward // 2),\n",
    "            nn.BatchNorm1d(dim_feedforward // 2),\n",
    "            nn.SiLU(),\n",
    "            nn.Dropout(dropout * 0.5),\n",
    "            nn.Linear(dim_feedforward // 2, input_dim),\n",
    "            nn.Sigmoid()\n",
    "        )\n",
    "        \n",
    "        self.classifier = nn.Sequential(\n",
    "            nn.Linear(d_model, dim_feedforward),\n",
    "            nn.BatchNorm1d(dim_feedforward),\n",
    "            nn.SiLU(),\n",
    "            nn.Dropout(dropout),\n",
    "            nn.Linear(dim_feedforward, 128), \n",
    "            nn.BatchNorm1d(128),\n",
    "            nn.SiLU(),\n",
    "            nn.Dropout(dropout * 0.5),\n",
    "            nn.Linear(128, 64),\n",
    "            nn.BatchNorm1d(64),\n",
    "            nn.SiLU(),\n",
    "            nn.Dropout(dropout * 0.5),\n",
    "            nn.Linear(64, 1),\n",
    "            nn.Sigmoid()\n",
    "        )\n",
    "        \n",
    "    def forward(self, x):\n",
    "        batch_size = x.size(0)\n",
    "        \n",
    "        x_embed = self.input_embedding(x)\n",
    "        # print(\"Embed shape\",x_embed.shape)\n",
    "        # x_embed = self.pos_encoding(x_embed)\n",
    "        # print(\"Embed shape\",x_embed.shape)\n",
    "        # if len(x.shape) == 2:\n",
    "        #     x = x.unsqueeze(1)\n",
    "        # x_embed = x_embed.squeeze(1)\n",
    "        encoded = self.transformer_encoder(x_embed)\n",
    "        # print(\"Encoded shape\",encoded.shape)\n",
    "        # print(\"Encoded squeeze shape\",encoded.squeeze(1).shape)\n",
    "        # print(\"Encoded mean shape\",encoded.mean(dim=1).shape)\n",
    "        \n",
    "        reconstruction = self.decoder_head(encoded + x_embed)  \n",
    "        \n",
    "        classification = self.classifier(encoded) \n",
    "\n",
    "        reconstruction = reconstruction.view(batch_size, -1)  \n",
    "        return reconstruction, classification"
   ]
  },
  {
   "cell_type": "code",
   "execution_count": 6,
   "id": "93ee3bdb",
   "metadata": {
    "execution": {
     "iopub.execute_input": "2025-03-29T23:59:53.703231Z",
     "iopub.status.busy": "2025-03-29T23:59:53.703028Z",
     "iopub.status.idle": "2025-03-29T23:59:53.706011Z",
     "shell.execute_reply": "2025-03-29T23:59:53.705181Z"
    },
    "papermill": {
     "duration": 0.007158,
     "end_time": "2025-03-29T23:59:53.707176",
     "exception": false,
     "start_time": "2025-03-29T23:59:53.700018",
     "status": "completed"
    },
    "tags": []
   },
   "outputs": [],
   "source": [
    "# class FocalLoss(nn.Module):\n",
    "#     def __init__(self, alpha=1, gamma=2, reduction='mean'):\n",
    "#         super(FocalLoss, self).__init__()\n",
    "#         self.alpha = alpha\n",
    "#         self.gamma = gamma\n",
    "#         self.reduction = reduction\n",
    "\n",
    "#     def forward(self, inputs, targets):\n",
    "#         BCE_loss = nn.BCEWithLogitsLoss(reduction='none')(inputs, targets)\n",
    "#         pt = torch.exp(-BCE_loss)\n",
    "#         F_loss = self.alpha * (1 - pt) ** self.gamma * BCE_loss\n",
    "#         return F_loss.mean() if self.reduction == 'mean' else F_loss.sum()"
   ]
  },
  {
   "cell_type": "code",
   "execution_count": 7,
   "id": "88a0f30c",
   "metadata": {
    "execution": {
     "iopub.execute_input": "2025-03-29T23:59:53.713130Z",
     "iopub.status.busy": "2025-03-29T23:59:53.712901Z",
     "iopub.status.idle": "2025-03-29T23:59:53.756659Z",
     "shell.execute_reply": "2025-03-29T23:59:53.755784Z"
    },
    "papermill": {
     "duration": 0.048146,
     "end_time": "2025-03-29T23:59:53.758010",
     "exception": false,
     "start_time": "2025-03-29T23:59:53.709864",
     "status": "completed"
    },
    "tags": []
   },
   "outputs": [],
   "source": [
    "model = ComplexTransformerAutoencoder()"
   ]
  },
  {
   "cell_type": "code",
   "execution_count": 8,
   "id": "199928fd",
   "metadata": {
    "execution": {
     "iopub.execute_input": "2025-03-29T23:59:53.764191Z",
     "iopub.status.busy": "2025-03-29T23:59:53.763968Z",
     "iopub.status.idle": "2025-03-29T23:59:57.383870Z",
     "shell.execute_reply": "2025-03-29T23:59:57.383179Z"
    },
    "papermill": {
     "duration": 3.624304,
     "end_time": "2025-03-29T23:59:57.385334",
     "exception": false,
     "start_time": "2025-03-29T23:59:53.761030",
     "status": "completed"
    },
    "tags": []
   },
   "outputs": [],
   "source": [
    "device = torch.device(\"cuda\" if torch.cuda.is_available() else \"cpu\")\n",
    "model = model.to(device)\n",
    "optimizer = torch.optim.AdamW(model.parameters(), lr=0.001, weight_decay=0.01)\n",
    "scheduler = torch.optim.lr_scheduler.CosineAnnealingWarmRestarts(optimizer, T_0=10, T_mult=2)"
   ]
  },
  {
   "cell_type": "code",
   "execution_count": 9,
   "id": "7a7aeba7",
   "metadata": {
    "execution": {
     "iopub.execute_input": "2025-03-29T23:59:57.391850Z",
     "iopub.status.busy": "2025-03-29T23:59:57.391473Z",
     "iopub.status.idle": "2025-03-30T00:35:50.524028Z",
     "shell.execute_reply": "2025-03-30T00:35:50.523011Z"
    },
    "papermill": {
     "duration": 2153.140406,
     "end_time": "2025-03-30T00:35:50.528661",
     "exception": false,
     "start_time": "2025-03-29T23:59:57.388255",
     "status": "completed"
    },
    "tags": []
   },
   "outputs": [
    {
     "name": "stdout",
     "output_type": "stream",
     "text": [
      "Epoch [1/10]\n",
      "Training Loss: 0.6085\n",
      "Validation Loss: 0.6013\n",
      "ROC-AUC Score: 0.5000\n",
      "\n",
      "Epoch [2/10]\n",
      "Training Loss: 0.6087\n",
      "Validation Loss: 0.6000\n",
      "ROC-AUC Score: 0.4997\n",
      "\n",
      "Epoch [3/10]\n",
      "Training Loss: 0.6066\n",
      "Validation Loss: 0.5994\n",
      "ROC-AUC Score: 0.5000\n",
      "\n",
      "Epoch [4/10]\n",
      "Training Loss: 0.6058\n",
      "Validation Loss: 0.5994\n",
      "ROC-AUC Score: 0.5000\n",
      "\n",
      "Epoch [5/10]\n",
      "Training Loss: 0.6051\n",
      "Validation Loss: 0.5993\n",
      "ROC-AUC Score: 0.5000\n",
      "\n",
      "Epoch [6/10]\n",
      "Training Loss: 0.6032\n",
      "Validation Loss: 0.5989\n",
      "ROC-AUC Score: 0.5000\n",
      "\n",
      "Epoch [7/10]\n",
      "Training Loss: 0.6030\n",
      "Validation Loss: 0.5988\n",
      "ROC-AUC Score: 0.5000\n",
      "\n",
      "Epoch [8/10]\n",
      "Training Loss: 0.6024\n",
      "Validation Loss: 0.5987\n",
      "ROC-AUC Score: 0.5000\n",
      "\n",
      "Epoch [9/10]\n",
      "Training Loss: 0.6022\n",
      "Validation Loss: 0.5987\n",
      "ROC-AUC Score: 0.5000\n",
      "\n",
      "Epoch [10/10]\n",
      "Training Loss: 0.6021\n",
      "Validation Loss: 0.5986\n",
      "ROC-AUC Score: 0.5000\n",
      "\n"
     ]
    }
   ],
   "source": [
    "recon_criterion = nn.MSELoss()\n",
    "class_criterion = nn.BCELoss()\n",
    "# class_criterion = FocalLoss()\n",
    "\n",
    "train_losses = []\n",
    "val_losses = []\n",
    "num_epochs = 10\n",
    "for epoch in range(num_epochs):\n",
    "    model.train()\n",
    "    total_loss = 0\n",
    "        \n",
    "    for batch_idx, (features, labels) in enumerate(train_loader):\n",
    "        features, labels = features.to(device), labels.to(device)\n",
    "            \n",
    "        reconstruction, classification = model(features)\n",
    "            \n",
    "        features = features.view(features.size(0), -1)  \n",
    "        reconstruction = reconstruction.view(reconstruction.size(0), -1)  \n",
    "            \n",
    "        recon_loss = recon_criterion(reconstruction, features)\n",
    "        class_loss = class_criterion(classification.squeeze(), labels)\n",
    "        # print(type(class_loss))\n",
    "        # print((class_loss))\n",
    "        # print((recon_loss))\n",
    "        \n",
    "        \n",
    "        loss = 0.5 * recon_loss + 0.5 * class_loss\n",
    "        # print(np.array(class_loss))\n",
    "        optimizer.zero_grad()\n",
    "        loss.backward()\n",
    "            \n",
    "        # torch.nn.utils.clip_grad_norm_(model.parameters(), max_norm=1.0)\n",
    "            \n",
    "        optimizer.step()\n",
    "        total_loss += loss.item()\n",
    "        # break\n",
    "    train_losses.append(total_loss/len(train_loader))\n",
    "    scheduler.step()\n",
    "        \n",
    "    # Validation phase\n",
    "    model.eval()\n",
    "    val_loss = 0\n",
    "    val_preds = []\n",
    "    val_true = []\n",
    "        \n",
    "    with torch.no_grad():\n",
    "        for features, labels in val_loader:\n",
    "            features, labels = features.to(device), labels.to(device)\n",
    "                \n",
    "            reconstruction, classification = model(features)\n",
    "                \n",
    "            features = features.view(features.size(0), -1)\n",
    "            reconstruction = reconstruction.view(reconstruction.size(0), -1)\n",
    "                \n",
    "            val_preds.extend(classification.squeeze().cpu().numpy())\n",
    "            val_true.extend(labels.cpu().numpy())\n",
    "                \n",
    "            recon_loss = recon_criterion(reconstruction, features)\n",
    "            class_loss = class_criterion(classification.squeeze(), labels)\n",
    "            val_loss += (0.5 * recon_loss + 0.5 * class_loss).item()\n",
    "            # break\n",
    "    val_losses.append(val_loss/len(val_loader))\n",
    "    roc_auc = roc_auc_score(val_true, val_preds)\n",
    "        \n",
    "    print(f'Epoch [{epoch+1}/{num_epochs}]')\n",
    "    print(f'Training Loss: {total_loss/len(train_loader):.4f}')\n",
    "    print(f'Validation Loss: {val_loss/len(val_loader):.4f}')\n",
    "    print(f'ROC-AUC Score: {roc_auc:.4f}\\n')"
   ]
  },
  {
   "cell_type": "code",
   "execution_count": 10,
   "id": "4aa9f213",
   "metadata": {
    "execution": {
     "iopub.execute_input": "2025-03-30T00:35:50.536366Z",
     "iopub.status.busy": "2025-03-30T00:35:50.536143Z",
     "iopub.status.idle": "2025-03-30T00:35:50.572116Z",
     "shell.execute_reply": "2025-03-30T00:35:50.571450Z"
    },
    "papermill": {
     "duration": 0.041203,
     "end_time": "2025-03-30T00:35:50.573381",
     "exception": false,
     "start_time": "2025-03-30T00:35:50.532178",
     "status": "completed"
    },
    "tags": []
   },
   "outputs": [],
   "source": [
    "torch.save(model.state_dict(), \"higgs_complex_autoencoder_v3.pth\")"
   ]
  },
  {
   "cell_type": "code",
   "execution_count": 11,
   "id": "b68f7a52",
   "metadata": {
    "execution": {
     "iopub.execute_input": "2025-03-30T00:35:50.580611Z",
     "iopub.status.busy": "2025-03-30T00:35:50.580347Z",
     "iopub.status.idle": "2025-03-30T00:35:50.861822Z",
     "shell.execute_reply": "2025-03-30T00:35:50.860933Z"
    },
    "papermill": {
     "duration": 0.286445,
     "end_time": "2025-03-30T00:35:50.863126",
     "exception": false,
     "start_time": "2025-03-30T00:35:50.576681",
     "status": "completed"
    },
    "tags": []
   },
   "outputs": [
    {
     "data": {
      "image/png": "[encoded data removed]",
      "text/plain": [
       "<Figure size 800x500 with 1 Axes>"
      ]
     },
     "metadata": {},
     "output_type": "display_data"
    }
   ],
   "source": [
    "import matplotlib.pyplot as plt\n",
    "\n",
    "plt.figure(figsize=(8, 5))\n",
    "plt.plot(range(1, num_epochs+1), train_losses, label='Train Loss', color='blue', linestyle='-')\n",
    "plt.plot(range(1, num_epochs+1), val_losses, label='Validation Loss', color='red', linestyle='--')\n",
    "\n",
    "plt.xlabel('Epochs')\n",
    "plt.ylabel('Loss')\n",
    "plt.title('Training & Validation Loss Over Epochs')\n",
    "plt.legend()\n",
    "plt.show()"
   ]
  },
  {
   "cell_type": "code",
   "execution_count": 12,
   "id": "1090b8b7",
   "metadata": {
    "execution": {
     "iopub.execute_input": "2025-03-30T00:35:50.871591Z",
     "iopub.status.busy": "2025-03-30T00:35:50.871317Z",
     "iopub.status.idle": "2025-03-30T00:35:58.880400Z",
     "shell.execute_reply": "2025-03-30T00:35:58.879522Z"
    },
    "papermill": {
     "duration": 8.014725,
     "end_time": "2025-03-30T00:35:58.881758",
     "exception": false,
     "start_time": "2025-03-30T00:35:50.867033",
     "status": "completed"
    },
    "tags": []
   },
   "outputs": [
    {
     "data": {
      "image/png": "[encoded data removed]",
      "text/plain": [
       "<Figure size 1500x600 with 3 Axes>"
      ]
     },
     "metadata": {},
     "output_type": "display_data"
    },
    {
     "name": "stdout",
     "output_type": "stream",
     "text": [
      "AUC Score: 0.5000\n",
      "Optimal Threshold: 1.5294\n",
      "Precision: 0.5280\n",
      "Recall: 1.0000\n",
      "F1 Score: 0.6911\n",
      "Accuracy: 0.5280\n"
     ]
    }
   ],
   "source": [
    "from sklearn.metrics import roc_curve, auc, roc_auc_score, confusion_matrix\n",
    "import seaborn as sns\n",
    "\n",
    "# Final evaluation on test set\n",
    "model.eval()\n",
    "test_preds = []\n",
    "test_true = []\n",
    "    \n",
    "with torch.no_grad():\n",
    "    for features, labels in test_loader:\n",
    "        features = features.to(device)\n",
    "        _, classification = model(features)\n",
    "        test_preds.extend(classification.squeeze().cpu().numpy())\n",
    "        test_true.extend(labels.numpy())\n",
    "\n",
    "y_true = np.array(test_true)\n",
    "y_scores = np.array(test_preds)\n",
    "\n",
    "fpr, tpr, thresholds = roc_curve(y_true, y_scores)\n",
    "roc_auc = auc(fpr, tpr)\n",
    "\n",
    "fig, (ax1, ax2) = plt.subplots(1, 2, figsize=(15, 6))\n",
    "    \n",
    "# Plot ROC curve\n",
    "ax1.plot(fpr, tpr, color='darkorange', lw=2,label=f'ROC curve (AUC = {roc_auc:.2f})')\n",
    "ax1.plot([0, 1], [0, 1], color='navy', lw=2, linestyle='--')\n",
    "ax1.set_xlim([0.0, 1.0])\n",
    "ax1.set_ylim([0.0, 1.05])\n",
    "ax1.set_xlabel('False Positive Rate')\n",
    "ax1.set_ylabel('True Positive Rate')\n",
    "ax1.set_title('Receiver Operating Characteristic (ROC) Curve')\n",
    "ax1.legend(loc=\"lower right\")\n",
    "    \n",
    "y_pred = (y_scores >= 0.5).astype(int)\n",
    "    \n",
    "# Compute Confusion Matrix\n",
    "cm = confusion_matrix(y_true, y_pred)\n",
    "sns.heatmap(cm, annot=True, fmt='d', cmap='Blues', ax=ax2)\n",
    "ax2.set_xlabel('Predicted Label')\n",
    "ax2.set_ylabel('True Label')\n",
    "ax2.set_title('Confusion Matrix')\n",
    "    \n",
    "plt.tight_layout()\n",
    "plt.show()\n",
    "    \n",
    "# Calculate additional metrics\n",
    "optimal_idx = np.argmax(tpr - fpr)\n",
    "optimal_threshold = thresholds[optimal_idx]\n",
    "    \n",
    "# Compute precision, recall, F1 score\n",
    "from sklearn.metrics import precision_score, recall_score, f1_score\n",
    "precision = precision_score(y_true, y_pred)\n",
    "recall = recall_score(y_true, y_pred)\n",
    "f1 = f1_score(y_true, y_pred)\n",
    "    \n",
    "print(f\"AUC Score: {roc_auc:.4f}\")\n",
    "print(f\"Optimal Threshold: {optimal_threshold:.4f}\")\n",
    "print(f\"Precision: {precision:.4f}\")\n",
    "print(f\"Recall: {recall:.4f}\")\n",
    "print(f\"F1 Score: {f1:.4f}\")\n",
    "print(f\"Accuracy: {np.mean(y_pred == y_true):.4f}\")"
   ]
  }
 ],
 "metadata": {
  "kaggle": {
   "accelerator": "gpu",
   "dataSources": [
    {
     "datasetId": 6983024,
     "sourceId": 11186338,
     "sourceType": "datasetVersion"
    }
   ],
   "dockerImageVersionId": 30919,
   "isGpuEnabled": true,
   "isInternetEnabled": true,
   "language": "python",
   "sourceType": "notebook"
  },
  "kernelspec": {
   "display_name": "Python 3",
   "language": "python",
   "name": "python3"
  },
  "language_info": {
   "codemirror_mode": {
    "name": "ipython",
    "version": 3
   },
   "file_extension": ".py",
   "mimetype": "text/x-python",
   "name": "python",
   "nbconvert_exporter": "python",
   "pygments_lexer": "ipython3",
   "version": "3.10.12"
  },
  "papermill": {
   "default_parameters": {},
   "duration": 2313.500127,
   "end_time": "2025-03-30T00:36:00.711515",
   "environment_variables": {},
   "exception": null,
   "input_path": "__notebook__.ipynb",
   "output_path": "__notebook__.ipynb",
   "parameters": {},
   "start_time": "2025-03-29T23:57:27.211388",
   "version": "2.6.0"
  }
 },
 "nbformat": 4,
 "nbformat_minor": 5
}
