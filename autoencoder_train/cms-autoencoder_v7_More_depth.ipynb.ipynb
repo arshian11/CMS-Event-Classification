{
 "cells": [
  {
   "cell_type": "code",
   "execution_count": 1,
   "id": "fbe60199",
   "metadata": {
    "_cell_guid": "b1076dfc-b9ad-4769-8c92-a6c4dae69d19",
    "_uuid": "8f2839f25d086af736a60e9eeb907d3b93b6e0e5",
    "execution": {
     "iopub.execute_input": "2025-03-29T23:23:36.832335Z",
     "iopub.status.busy": "2025-03-29T23:23:36.832056Z",
     "iopub.status.idle": "2025-03-29T23:23:36.836494Z",
     "shell.execute_reply": "2025-03-29T23:23:36.835666Z"
    },
    "papermill": {
     "duration": 0.010117,
     "end_time": "2025-03-29T23:23:36.837920",
     "exception": false,
     "start_time": "2025-03-29T23:23:36.827803",
     "status": "completed"
    },
    "tags": []
   },
   "outputs": [],
   "source": [
    "# This Python 3 environment comes with many helpful analytics libraries installed\n",
    "# It is defined by the kaggle/python Docker image: https://github.com/kaggle/docker-python\n",
    "# For example, here's several helpful packages to load\n",
    "\n",
    "# import numpy as np # linear algebra\n",
    "# import pandas as pd # data processing, CSV file I/O (e.g. pd.read_csv)\n",
    "\n",
    "# Input data files are available in the read-only \"../input/\" directory\n",
    "# For example, running this (by clicking run or pressing Shift+Enter) will list all files under the input directory\n",
    "\n",
    "# import os\n",
    "# for dirname, _, filenames in os.walk('/kaggle/input'):\n",
    "#     for filename in filenames:\n",
    "#         print(os.path.join(dirname, filename))\n",
    "\n",
    "# You can write up to 20GB to the current directory (/kaggle/working/) that gets preserved as output when you create a version using \"Save & Run All\" \n",
    "# You can also write temporary files to /kaggle/temp/, but they won't be saved outside of the current session"
   ]
  },
  {
   "cell_type": "code",
   "execution_count": 2,
   "id": "443148fd",
   "metadata": {
    "execution": {
     "iopub.execute_input": "2025-03-29T23:23:36.844138Z",
     "iopub.status.busy": "2025-03-29T23:23:36.843933Z",
     "iopub.status.idle": "2025-03-29T23:23:41.606985Z",
     "shell.execute_reply": "2025-03-29T23:23:41.606026Z"
    },
    "papermill": {
     "duration": 4.76779,
     "end_time": "2025-03-29T23:23:41.608676",
     "exception": false,
     "start_time": "2025-03-29T23:23:36.840886",
     "status": "completed"
    },
    "tags": []
   },
   "outputs": [],
   "source": [
    "import pandas as pd\n",
    "import numpy as np\n",
    "import torch\n",
    "import torch.nn as nn\n",
    "from torch.utils.data import Dataset, DataLoader\n",
    "# from sklearn.preprocessing import StandardScaler\n",
    "from sklearn.metrics import roc_auc_score\n",
    "import torch.nn.functional as F\n",
    "import math"
   ]
  },
  {
   "cell_type": "code",
   "execution_count": 3,
   "id": "bd0f2856",
   "metadata": {
    "execution": {
     "iopub.execute_input": "2025-03-29T23:23:41.615166Z",
     "iopub.status.busy": "2025-03-29T23:23:41.614776Z",
     "iopub.status.idle": "2025-03-29T23:23:41.619096Z",
     "shell.execute_reply": "2025-03-29T23:23:41.618440Z"
    },
    "papermill": {
     "duration": 0.008741,
     "end_time": "2025-03-29T23:23:41.620319",
     "exception": false,
     "start_time": "2025-03-29T23:23:41.611578",
     "status": "completed"
    },
    "tags": []
   },
   "outputs": [],
   "source": [
    "class CustomDataset(Dataset):\n",
    "    def __init__(self, features, labels):\n",
    "        self.features = torch.FloatTensor(features)\n",
    "        self.labels = torch.FloatTensor(labels)\n",
    "        \n",
    "    def __len__(self):\n",
    "        return len(self.features)\n",
    "    \n",
    "    def __getitem__(self, idx):\n",
    "        return self.features[idx], self.labels[idx]"
   ]
  },
  {
   "cell_type": "code",
   "execution_count": 4,
   "id": "e08a3b02",
   "metadata": {
    "execution": {
     "iopub.execute_input": "2025-03-29T23:23:41.626269Z",
     "iopub.status.busy": "2025-03-29T23:23:41.626040Z",
     "iopub.status.idle": "2025-03-29T23:27:17.843964Z",
     "shell.execute_reply": "2025-03-29T23:27:17.843164Z"
    },
    "papermill": {
     "duration": 216.222779,
     "end_time": "2025-03-29T23:27:17.845777",
     "exception": false,
     "start_time": "2025-03-29T23:23:41.622998",
     "status": "completed"
    },
    "tags": []
   },
   "outputs": [],
   "source": [
    "data = pd.read_csv('/kaggle/input/higgs-dataset/HIGGS.csv/HIGGS.csv')\n",
    "features = data.iloc[:1100000, 1:22].values \n",
    "labels = data.iloc[:1100000, 0].values\n",
    "    \n",
    "train_features = features[:900000]            \n",
    "train_labels = labels[:900000]\n",
    "    \n",
    "val_features = features[900000:1000000]    \n",
    "val_labels = labels[900000:1000000]\n",
    "    \n",
    "test_features = features[1000000:] \n",
    "test_labels = labels[1000000:]\n",
    "\n",
    "train_dataset = CustomDataset(train_features, train_labels)\n",
    "val_dataset = CustomDataset(val_features, val_labels)\n",
    "test_dataset = CustomDataset(test_features, test_labels)\n",
    "\n",
    "train_loader = DataLoader(train_dataset, batch_size=64, shuffle=True)\n",
    "val_loader = DataLoader(val_dataset, batch_size=64, shuffle=False)\n",
    "test_loader = DataLoader(test_dataset, batch_size=64, shuffle=False)"
   ]
  },
  {
   "cell_type": "code",
   "execution_count": 5,
   "id": "c2533121",
   "metadata": {
    "execution": {
     "iopub.execute_input": "2025-03-29T23:27:17.853881Z",
     "iopub.status.busy": "2025-03-29T23:27:17.853623Z",
     "iopub.status.idle": "2025-03-29T23:27:17.861518Z",
     "shell.execute_reply": "2025-03-29T23:27:17.860824Z"
    },
    "papermill": {
     "duration": 0.012916,
     "end_time": "2025-03-29T23:27:17.862638",
     "exception": false,
     "start_time": "2025-03-29T23:27:17.849722",
     "status": "completed"
    },
    "tags": []
   },
   "outputs": [],
   "source": [
    "# import math\n",
    "\n",
    "# class PositionalEncoding(nn.Module):\n",
    "#     def __init__(self, d_model, max_len=5000):\n",
    "#         super(PositionalEncoding, self).__init__()\n",
    "#         pe = torch.zeros(max_len, d_model)\n",
    "#         position = torch.arange(0, max_len, dtype=torch.float).unsqueeze(1)\n",
    "#         div_term = torch.exp(torch.arange(0, d_model, 2).float() * (-math.log(10000.0) / d_model))\n",
    "#         pe[:, 0::2] = torch.sin(position * div_term)\n",
    "#         pe[:, 1::2] = torch.cos(position * div_term)\n",
    "#         pe = pe.unsqueeze(0)\n",
    "#         self.register_buffer('pe', pe)\n",
    "\n",
    "#     def forward(self, x):\n",
    "#         if x.dim() == 2:  \n",
    "#             x = x.unsqueeze(1)  \n",
    "#         return x + self.pe[:, :x.size(1), :]\n",
    "        \n",
    "class ComplexTransformerAutoencoder(nn.Module):\n",
    "    def __init__(self, \n",
    "                 input_dim=21,\n",
    "                 d_model=512,\n",
    "                 nhead=8,\n",
    "                 num_encoder_layers=12,\n",
    "                 dim_feedforward=1024,\n",
    "                 dropout=0.2,\n",
    "                 activation=\"gelu\"):\n",
    "        super(ComplexTransformerAutoencoder, self).__init__()\n",
    "        \n",
    "        self.input_embedding = nn.Sequential(\n",
    "            nn.Linear(input_dim, d_model//2),\n",
    "            nn.LayerNorm(d_model//2),\n",
    "            nn.SiLU(),\n",
    "            nn.Dropout(dropout),\n",
    "            nn.Linear(d_model//2, d_model),\n",
    "            nn.LayerNorm(d_model)\n",
    "        )\n",
    "        # self.input_embedding = nn.Linear(input_dim, d_model)\n",
    "        # self.pos_encoding = PositionalEncoding(d_model)\n",
    "        \n",
    "        encoder_layer = nn.TransformerEncoderLayer(\n",
    "            d_model=d_model,\n",
    "            nhead=nhead,\n",
    "            dim_feedforward=dim_feedforward,\n",
    "            dropout=dropout,\n",
    "            activation=activation,\n",
    "            batch_first=True\n",
    "        )\n",
    "        self.transformer_encoder = nn.TransformerEncoder(\n",
    "            encoder_layer, \n",
    "            num_layers=num_encoder_layers,\n",
    "            norm=nn.LayerNorm(d_model)\n",
    "        )\n",
    "        \n",
    "        self.decoder_head = nn.Sequential(\n",
    "            nn.Linear(d_model, dim_feedforward),\n",
    "            nn.BatchNorm1d(dim_feedforward),\n",
    "            nn.SiLU(),\n",
    "            nn.Dropout(dropout),\n",
    "            nn.Linear(dim_feedforward, dim_feedforward // 2),\n",
    "            nn.BatchNorm1d(dim_feedforward // 2),\n",
    "            nn.SiLU(),\n",
    "            nn.Dropout(dropout * 0.5),\n",
    "            nn.Linear(dim_feedforward // 2, input_dim),\n",
    "            nn.Sigmoid()\n",
    "        )\n",
    "        \n",
    "        self.classifier = nn.Sequential(\n",
    "            nn.Linear(d_model, dim_feedforward),\n",
    "            nn.BatchNorm1d(dim_feedforward),\n",
    "            nn.SiLU(),\n",
    "            nn.Dropout(dropout),\n",
    "            nn.Linear(dim_feedforward, 128), \n",
    "            nn.BatchNorm1d(128),\n",
    "            nn.SiLU(),\n",
    "            nn.Dropout(dropout * 0.5),\n",
    "            nn.Linear(128, 64),\n",
    "            nn.BatchNorm1d(64),\n",
    "            nn.SiLU(),\n",
    "            nn.Dropout(dropout * 0.5),\n",
    "            nn.Linear(64, 1),\n",
    "            nn.Sigmoid()\n",
    "        )\n",
    "        \n",
    "    def forward(self, x):\n",
    "        batch_size = x.size(0)\n",
    "        \n",
    "        x_embed = self.input_embedding(x)\n",
    "        # print(\"Embed shape\",x_embed.shape)\n",
    "        # x_embed = self.pos_encoding(x_embed)\n",
    "        # print(\"Embed shape\",x_embed.shape)\n",
    "        # if len(x.shape) == 2:\n",
    "        #     x = x.unsqueeze(1)\n",
    "        # x_embed = x_embed.squeeze(1)\n",
    "        encoded = self.transformer_encoder(x_embed)\n",
    "        # print(\"Encoded shape\",encoded.shape)\n",
    "        # print(\"Encoded squeeze shape\",encoded.squeeze(1).shape)\n",
    "        # print(\"Encoded mean shape\",encoded.mean(dim=1).shape)\n",
    "        \n",
    "        reconstruction = self.decoder_head(encoded)  \n",
    "        \n",
    "        classification = self.classifier(encoded) \n",
    "\n",
    "        reconstruction = reconstruction.view(batch_size, -1)  \n",
    "        return reconstruction, classification"
   ]
  },
  {
   "cell_type": "code",
   "execution_count": 6,
   "id": "cda152cf",
   "metadata": {
    "execution": {
     "iopub.execute_input": "2025-03-29T23:27:17.868304Z",
     "iopub.status.busy": "2025-03-29T23:27:17.868072Z",
     "iopub.status.idle": "2025-03-29T23:27:17.941168Z",
     "shell.execute_reply": "2025-03-29T23:27:17.940222Z"
    },
    "papermill": {
     "duration": 0.077725,
     "end_time": "2025-03-29T23:27:17.942856",
     "exception": false,
     "start_time": "2025-03-29T23:27:17.865131",
     "status": "completed"
    },
    "tags": []
   },
   "outputs": [],
   "source": [
    "model = ComplexTransformerAutoencoder()"
   ]
  },
  {
   "cell_type": "code",
   "execution_count": 7,
   "id": "ebbd7e10",
   "metadata": {
    "execution": {
     "iopub.execute_input": "2025-03-29T23:27:17.949208Z",
     "iopub.status.busy": "2025-03-29T23:27:17.948969Z",
     "iopub.status.idle": "2025-03-29T23:27:17.951935Z",
     "shell.execute_reply": "2025-03-29T23:27:17.951276Z"
    },
    "papermill": {
     "duration": 0.007442,
     "end_time": "2025-03-29T23:27:17.953236",
     "exception": false,
     "start_time": "2025-03-29T23:27:17.945794",
     "status": "completed"
    },
    "tags": []
   },
   "outputs": [],
   "source": [
    "model_path = '/kaggle/input/complexautoencoder-epoch-30/pytorch/default/1/higgs_complex_autoencoder (2).pth'\n",
    "# model.load_state_dict(torch.load(model_path))\n"
   ]
  },
  {
   "cell_type": "code",
   "execution_count": 8,
   "id": "c5673fa7",
   "metadata": {
    "execution": {
     "iopub.execute_input": "2025-03-29T23:27:17.959293Z",
     "iopub.status.busy": "2025-03-29T23:27:17.959074Z",
     "iopub.status.idle": "2025-03-29T23:27:21.829786Z",
     "shell.execute_reply": "2025-03-29T23:27:21.828853Z"
    },
    "papermill": {
     "duration": 3.875945,
     "end_time": "2025-03-29T23:27:21.831930",
     "exception": false,
     "start_time": "2025-03-29T23:27:17.955985",
     "status": "completed"
    },
    "tags": []
   },
   "outputs": [],
   "source": [
    "device = torch.device(\"cuda\" if torch.cuda.is_available() else \"cpu\")\n",
    "model = model.to(device)\n",
    "optimizer = torch.optim.AdamW(model.parameters(), lr=0.001, weight_decay=0.01)\n",
    "scheduler = torch.optim.lr_scheduler.CosineAnnealingWarmRestarts(optimizer, T_0=10, T_mult=2)"
   ]
  },
  {
   "cell_type": "code",
   "execution_count": 9,
   "id": "0485a02f",
   "metadata": {
    "execution": {
     "iopub.execute_input": "2025-03-29T23:27:21.839992Z",
     "iopub.status.busy": "2025-03-29T23:27:21.839494Z",
     "iopub.status.idle": "2025-03-30T00:34:17.498071Z",
     "shell.execute_reply": "2025-03-30T00:34:17.497113Z"
    },
    "papermill": {
     "duration": 4015.666822,
     "end_time": "2025-03-30T00:34:17.502450",
     "exception": false,
     "start_time": "2025-03-29T23:27:21.835628",
     "status": "completed"
    },
    "tags": []
   },
   "outputs": [
    {
     "name": "stdout",
     "output_type": "stream",
     "text": [
      "Epoch [1/10]\n",
      "Training Loss: 0.7830\n",
      "Validation Loss: 0.7822\n",
      "ROC-AUC Score: 0.5000\n",
      "\n",
      "Epoch [2/10]\n",
      "Training Loss: 0.7827\n",
      "Validation Loss: 0.7822\n",
      "ROC-AUC Score: 0.5000\n",
      "\n",
      "Epoch [3/10]\n",
      "Training Loss: 0.7826\n",
      "Validation Loss: 0.7822\n",
      "ROC-AUC Score: 0.5000\n",
      "\n",
      "Epoch [4/10]\n",
      "Training Loss: 0.7826\n",
      "Validation Loss: 0.7822\n",
      "ROC-AUC Score: 0.5000\n",
      "\n",
      "Epoch [5/10]\n",
      "Training Loss: 0.7826\n",
      "Validation Loss: 0.7822\n",
      "ROC-AUC Score: 0.5000\n",
      "\n",
      "Epoch [6/10]\n",
      "Training Loss: 0.7826\n",
      "Validation Loss: 0.7822\n",
      "ROC-AUC Score: 0.5000\n",
      "\n",
      "Epoch [7/10]\n",
      "Training Loss: 0.7826\n",
      "Validation Loss: 0.7822\n",
      "ROC-AUC Score: 0.5000\n",
      "\n",
      "Epoch [8/10]\n",
      "Training Loss: 0.7826\n",
      "Validation Loss: 0.7822\n",
      "ROC-AUC Score: 0.5000\n",
      "\n",
      "Epoch [9/10]\n",
      "Training Loss: 0.7826\n",
      "Validation Loss: 0.7822\n",
      "ROC-AUC Score: 0.5000\n",
      "\n",
      "Epoch [10/10]\n",
      "Training Loss: 0.7826\n",
      "Validation Loss: 0.7822\n",
      "ROC-AUC Score: 0.5000\n",
      "\n"
     ]
    }
   ],
   "source": [
    "recon_criterion = nn.MSELoss()\n",
    "class_criterion = nn.BCELoss()\n",
    "\n",
    "\n",
    "train_losses = []\n",
    "val_losses = []\n",
    "num_epochs = 10\n",
    "for epoch in range(num_epochs):\n",
    "    model.train()\n",
    "    total_loss = 0\n",
    "        \n",
    "    for batch_idx, (features, labels) in enumerate(train_loader):\n",
    "        features, labels = features.to(device), labels.to(device)\n",
    "            \n",
    "        reconstruction, classification = model(features)\n",
    "            \n",
    "        features = features.view(features.size(0), -1)  \n",
    "        reconstruction = reconstruction.view(reconstruction.size(0), -1)  \n",
    "            \n",
    "        recon_loss = recon_criterion(reconstruction, features)\n",
    "        class_loss = class_criterion(classification.squeeze(), labels)\n",
    "        \n",
    "        loss = 0.5*recon_loss + 0.5*class_loss\n",
    "\n",
    "        optimizer.zero_grad()\n",
    "        loss.backward()\n",
    "            \n",
    "        # torch.nn.utils.clip_grad_norm_(model.parameters(), max_norm=1.0)\n",
    "            \n",
    "        optimizer.step()\n",
    "        total_loss += loss.item()\n",
    "        # break\n",
    "    train_losses.append(total_loss/len(train_loader))\n",
    "    scheduler.step()\n",
    "        \n",
    "    # Validation phase\n",
    "    model.eval()\n",
    "    val_loss = 0\n",
    "    val_preds = []\n",
    "    val_true = []\n",
    "        \n",
    "    with torch.no_grad():\n",
    "        for features, labels in val_loader:\n",
    "            features, labels = features.to(device), labels.to(device)\n",
    "                \n",
    "            reconstruction, classification = model(features)\n",
    "                \n",
    "            features = features.view(features.size(0), -1)\n",
    "            reconstruction = reconstruction.view(reconstruction.size(0), -1)\n",
    "                \n",
    "            val_preds.extend(classification.squeeze().cpu().numpy())\n",
    "            val_true.extend(labels.cpu().numpy())\n",
    "                \n",
    "            recon_loss = recon_criterion(reconstruction, features)\n",
    "            class_loss = class_criterion(classification.squeeze(), labels)\n",
    "            val_loss += (0.5 * recon_loss + 0.5 * class_loss).item()\n",
    "            # break\n",
    "    val_losses.append(val_loss/len(val_loader))\n",
    "    roc_auc = roc_auc_score(val_true, val_preds)\n",
    "        \n",
    "    print(f'Epoch [{epoch+1}/{num_epochs}]')\n",
    "    print(f'Training Loss: {total_loss/len(train_loader):.4f}')\n",
    "    print(f'Validation Loss: {val_loss/len(val_loader):.4f}')\n",
    "    print(f'ROC-AUC Score: {roc_auc:.4f}\\n')"
   ]
  },
  {
   "cell_type": "code",
   "execution_count": 10,
   "id": "800a7ec3",
   "metadata": {
    "execution": {
     "iopub.execute_input": "2025-03-30T00:34:17.509335Z",
     "iopub.status.busy": "2025-03-30T00:34:17.509113Z",
     "iopub.status.idle": "2025-03-30T00:34:17.657629Z",
     "shell.execute_reply": "2025-03-30T00:34:17.656884Z"
    },
    "papermill": {
     "duration": 0.153614,
     "end_time": "2025-03-30T00:34:17.659213",
     "exception": false,
     "start_time": "2025-03-30T00:34:17.505599",
     "status": "completed"
    },
    "tags": []
   },
   "outputs": [],
   "source": [
    "torch.save(model.state_dict(), \"higgs_complex_autoencoder_v3.pth\")"
   ]
  },
  {
   "cell_type": "code",
   "execution_count": 11,
   "id": "1e5b71c9",
   "metadata": {
    "execution": {
     "iopub.execute_input": "2025-03-30T00:34:17.666871Z",
     "iopub.status.busy": "2025-03-30T00:34:17.666628Z",
     "iopub.status.idle": "2025-03-30T00:34:17.946241Z",
     "shell.execute_reply": "2025-03-30T00:34:17.945345Z"
    },
    "papermill": {
     "duration": 0.284909,
     "end_time": "2025-03-30T00:34:17.947610",
     "exception": false,
     "start_time": "2025-03-30T00:34:17.662701",
     "status": "completed"
    },
    "tags": []
   },
   "outputs": [
    {
     "data": {
      "image/png": "[encoded data removed]",
      "text/plain": [
       "<Figure size 800x500 with 1 Axes>"
      ]
     },
     "metadata": {},
     "output_type": "display_data"
    }
   ],
   "source": [
    "import matplotlib.pyplot as plt\n",
    "\n",
    "plt.figure(figsize=(8, 5))\n",
    "plt.plot(range(1, num_epochs+1), train_losses, label='Train Loss', color='blue', linestyle='-')\n",
    "plt.plot(range(1, num_epochs+1), val_losses, label='Validation Loss', color='red', linestyle='--')\n",
    "\n",
    "plt.xlabel('Epochs')\n",
    "plt.ylabel('Loss')\n",
    "plt.title('Training & Validation Loss Over Epochs')\n",
    "plt.legend()\n",
    "plt.show()"
   ]
  },
  {
   "cell_type": "code",
   "execution_count": 12,
   "id": "0b97fdb7",
   "metadata": {
    "execution": {
     "iopub.execute_input": "2025-03-30T00:34:17.955981Z",
     "iopub.status.busy": "2025-03-30T00:34:17.955731Z",
     "iopub.status.idle": "2025-03-30T00:34:30.014712Z",
     "shell.execute_reply": "2025-03-30T00:34:30.013845Z"
    },
    "papermill": {
     "duration": 12.064611,
     "end_time": "2025-03-30T00:34:30.016078",
     "exception": false,
     "start_time": "2025-03-30T00:34:17.951467",
     "status": "completed"
    },
    "tags": []
   },
   "outputs": [
    {
     "data": {
      "image/png": "[encoded data removed]",
      "text/plain": [
       "<Figure size 1500x600 with 3 Axes>"
      ]
     },
     "metadata": {},
     "output_type": "display_data"
    },
    {
     "name": "stdout",
     "output_type": "stream",
     "text": [
      "AUC Score: 0.5000\n",
      "Optimal Threshold: 1.5280\n",
      "Precision: 0.5280\n",
      "Recall: 1.0000\n",
      "F1 Score: 0.6911\n",
      "Accuracy: 0.5280\n"
     ]
    }
   ],
   "source": [
    "from sklearn.metrics import roc_curve, auc, roc_auc_score, confusion_matrix\n",
    "import seaborn as sns\n",
    "\n",
    "# Final evaluation on test set\n",
    "model.eval()\n",
    "test_preds = []\n",
    "test_true = []\n",
    "    \n",
    "with torch.no_grad():\n",
    "    for features, labels in test_loader:\n",
    "        features = features.to(device)\n",
    "        _, classification = model(features)\n",
    "        test_preds.extend(classification.squeeze().cpu().numpy())\n",
    "        test_true.extend(labels.numpy())\n",
    "\n",
    "y_true = np.array(test_true)\n",
    "y_scores = np.array(test_preds)\n",
    "\n",
    "fpr, tpr, thresholds = roc_curve(y_true, y_scores)\n",
    "roc_auc = auc(fpr, tpr)\n",
    "\n",
    "fig, (ax1, ax2) = plt.subplots(1, 2, figsize=(15, 6))\n",
    "    \n",
    "# Plot ROC curve\n",
    "ax1.plot(fpr, tpr, color='darkorange', lw=2,label=f'ROC curve (AUC = {roc_auc:.2f})')\n",
    "ax1.plot([0, 1], [0, 1], color='navy', lw=2, linestyle='--')\n",
    "ax1.set_xlim([0.0, 1.0])\n",
    "ax1.set_ylim([0.0, 1.05])\n",
    "ax1.set_xlabel('False Positive Rate')\n",
    "ax1.set_ylabel('True Positive Rate')\n",
    "ax1.set_title('Receiver Operating Characteristic (ROC) Curve')\n",
    "ax1.legend(loc=\"lower right\")\n",
    "    \n",
    "y_pred = (y_scores >= 0.5).astype(int)\n",
    "    \n",
    "# Compute Confusion Matrix\n",
    "cm = confusion_matrix(y_true, y_pred)\n",
    "sns.heatmap(cm, annot=True, fmt='d', cmap='Blues', ax=ax2)\n",
    "ax2.set_xlabel('Predicted Label')\n",
    "ax2.set_ylabel('True Label')\n",
    "ax2.set_title('Confusion Matrix')\n",
    "    \n",
    "plt.tight_layout()\n",
    "plt.show()\n",
    "    \n",
    "# Calculate additional metrics\n",
    "optimal_idx = np.argmax(tpr - fpr)\n",
    "optimal_threshold = thresholds[optimal_idx]\n",
    "    \n",
    "# Compute precision, recall, F1 score\n",
    "from sklearn.metrics import precision_score, recall_score, f1_score\n",
    "precision = precision_score(y_true, y_pred)\n",
    "recall = recall_score(y_true, y_pred)\n",
    "f1 = f1_score(y_true, y_pred)\n",
    "    \n",
    "print(f\"AUC Score: {roc_auc:.4f}\")\n",
    "print(f\"Optimal Threshold: {optimal_threshold:.4f}\")\n",
    "print(f\"Precision: {precision:.4f}\")\n",
    "print(f\"Recall: {recall:.4f}\")\n",
    "print(f\"F1 Score: {f1:.4f}\")\n",
    "print(f\"Accuracy: {np.mean(y_pred == y_true):.4f}\")"
   ]
  }
 ],
 "metadata": {
  "kaggle": {
   "accelerator": "gpu",
   "dataSources": [
    {
     "datasetId": 6983024,
     "sourceId": 11186338,
     "sourceType": "datasetVersion"
    },
    {
     "isSourceIdPinned": true,
     "modelId": 282999,
     "modelInstanceId": 261855,
     "sourceId": 307276,
     "sourceType": "modelInstanceVersion"
    }
   ],
   "dockerImageVersionId": 30919,
   "isGpuEnabled": true,
   "isInternetEnabled": true,
   "language": "python",
   "sourceType": "notebook"
  },
  "kernelspec": {
   "display_name": "Python 3",
   "language": "python",
   "name": "python3"
  },
  "language_info": {
   "codemirror_mode": {
    "name": "ipython",
    "version": 3
   },
   "file_extension": ".py",
   "mimetype": "text/x-python",
   "name": "python",
   "nbconvert_exporter": "python",
   "pygments_lexer": "ipython3",
   "version": "3.10.12"
  },
  "papermill": {
   "default_parameters": {},
   "duration": 4257.475168,
   "end_time": "2025-03-30T00:34:31.746603",
   "environment_variables": {},
   "exception": null,
   "input_path": "__notebook__.ipynb",
   "output_path": "__notebook__.ipynb",
   "parameters": {},
   "start_time": "2025-03-29T23:23:34.271435",
   "version": "2.6.0"
  }
 },
 "nbformat": 4,
 "nbformat_minor": 5
}
