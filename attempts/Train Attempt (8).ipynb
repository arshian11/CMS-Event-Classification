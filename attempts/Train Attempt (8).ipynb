{
 "cells": [
  {
   "cell_type": "code",
   "execution_count": 1,
   "id": "b04f6f42",
   "metadata": {
    "_cell_guid": "b1076dfc-b9ad-4769-8c92-a6c4dae69d19",
    "_uuid": "8f2839f25d086af736a60e9eeb907d3b93b6e0e5",
    "execution": {
     "iopub.execute_input": "2025-03-29T22:57:19.655532Z",
     "iopub.status.busy": "2025-03-29T22:57:19.655210Z",
     "iopub.status.idle": "2025-03-29T22:57:19.659537Z",
     "shell.execute_reply": "2025-03-29T22:57:19.658911Z"
    },
    "papermill": {
     "duration": 0.010204,
     "end_time": "2025-03-29T22:57:19.660769",
     "exception": false,
     "start_time": "2025-03-29T22:57:19.650565",
     "status": "completed"
    },
    "tags": []
   },
   "outputs": [],
   "source": [
    "# This Python 3 environment comes with many helpful analytics libraries installed\n",
    "# It is defined by the kaggle/python Docker image: https://github.com/kaggle/docker-python\n",
    "# For example, here's several helpful packages to load\n",
    "\n",
    "# import numpy as np # linear algebra\n",
    "# import pandas as pd # data processing, CSV file I/O (e.g. pd.read_csv)\n",
    "\n",
    "# Input data files are available in the read-only \"../input/\" directory\n",
    "# For example, running this (by clicking run or pressing Shift+Enter) will list all files under the input directory\n",
    "\n",
    "# import os\n",
    "# for dirname, _, filenames in os.walk('/kaggle/input'):\n",
    "#     for filename in filenames:\n",
    "#         print(os.path.join(dirname, filename))\n",
    "\n",
    "# You can write up to 20GB to the current directory (/kaggle/working/) that gets preserved as output when you create a version using \"Save & Run All\" \n",
    "# You can also write temporary files to /kaggle/temp/, but they won't be saved outside of the current session"
   ]
  },
  {
   "cell_type": "code",
   "execution_count": 2,
   "id": "03d00463",
   "metadata": {
    "execution": {
     "iopub.execute_input": "2025-03-29T22:57:19.667892Z",
     "iopub.status.busy": "2025-03-29T22:57:19.667679Z",
     "iopub.status.idle": "2025-03-29T22:57:27.028870Z",
     "shell.execute_reply": "2025-03-29T22:57:27.028169Z"
    },
    "papermill": {
     "duration": 7.366241,
     "end_time": "2025-03-29T22:57:27.030372",
     "exception": false,
     "start_time": "2025-03-29T22:57:19.664131",
     "status": "completed"
    },
    "tags": []
   },
   "outputs": [],
   "source": [
    "import torch\n",
    "import torch.nn as nn\n",
    "import torch.optim as optim\n",
    "# import torchvision.transforms as transforms\n",
    "import h5py\n",
    "import numpy as np\n",
    "from torch.utils.data import Dataset, DataLoader, random_split\n",
    "# from torchvision.transforms import AutoAugment, AutoAugmentPolicy\n",
    "import torchvision.models as models\n",
    "from torch.optim.lr_scheduler import CosineAnnealingLR\n",
    "import matplotlib.pyplot as plt"
   ]
  },
  {
   "cell_type": "code",
   "execution_count": 3,
   "id": "acdec0b9",
   "metadata": {
    "execution": {
     "iopub.execute_input": "2025-03-29T22:57:27.037545Z",
     "iopub.status.busy": "2025-03-29T22:57:27.037196Z",
     "iopub.status.idle": "2025-03-29T22:57:27.042713Z",
     "shell.execute_reply": "2025-03-29T22:57:27.042126Z"
    },
    "papermill": {
     "duration": 0.010308,
     "end_time": "2025-03-29T22:57:27.043918",
     "exception": false,
     "start_time": "2025-03-29T22:57:27.033610",
     "status": "completed"
    },
    "tags": []
   },
   "outputs": [],
   "source": [
    "class ParticleDataset(Dataset):\n",
    "    def __init__(self, hdf5_files, transform=None):\n",
    "        self.data = []\n",
    "        self.labels = []\n",
    "        self.transform = transform\n",
    "        \n",
    "        for idx, file in enumerate(hdf5_files):\n",
    "            with h5py.File(file, 'r') as f:\n",
    "                X = f['X'][:]\n",
    "                y = np.full((X.shape[0],), idx)\n",
    "                self.data.append(X)\n",
    "                self.labels.append(y)\n",
    "        \n",
    "        self.data = np.concatenate(self.data, axis=0)\n",
    "        self.labels = np.concatenate(self.labels, axis=0)\n",
    "    \n",
    "    def __len__(self):\n",
    "        return len(self.data)\n",
    "    \n",
    "    def __getitem__(self, idx):\n",
    "        img = self.data[idx]\n",
    "        label = self.labels[idx]\n",
    "        \n",
    "        if self.transform:\n",
    "            img = self.transform(img)\n",
    "        \n",
    "        return img[:,:,0], img[:,:,1], label"
   ]
  },
  {
   "cell_type": "code",
   "execution_count": 4,
   "id": "8cbf8fc7",
   "metadata": {
    "execution": {
     "iopub.execute_input": "2025-03-29T22:57:27.050439Z",
     "iopub.status.busy": "2025-03-29T22:57:27.050187Z",
     "iopub.status.idle": "2025-03-29T22:57:42.245286Z",
     "shell.execute_reply": "2025-03-29T22:57:42.244609Z"
    },
    "papermill": {
     "duration": 15.20003,
     "end_time": "2025-03-29T22:57:42.246898",
     "exception": false,
     "start_time": "2025-03-29T22:57:27.046868",
     "status": "completed"
    },
    "tags": []
   },
   "outputs": [],
   "source": [
    "full_dataset = ParticleDataset(['/kaggle/input/cms-particle-collison/SinglePhotonPt50_IMGCROPS_n249k_RHv1.hdf5', \n",
    "                                '/kaggle/input/cms-particle-collison/SingleElectronPt50_IMGCROPS_n249k_RHv1.hdf5'])\n"
   ]
  },
  {
   "cell_type": "code",
   "execution_count": 5,
   "id": "1960ac8b",
   "metadata": {
    "execution": {
     "iopub.execute_input": "2025-03-29T22:57:42.254097Z",
     "iopub.status.busy": "2025-03-29T22:57:42.253840Z",
     "iopub.status.idle": "2025-03-29T22:57:42.310777Z",
     "shell.execute_reply": "2025-03-29T22:57:42.309893Z"
    },
    "papermill": {
     "duration": 0.061978,
     "end_time": "2025-03-29T22:57:42.312271",
     "exception": false,
     "start_time": "2025-03-29T22:57:42.250293",
     "status": "completed"
    },
    "tags": []
   },
   "outputs": [],
   "source": [
    "total_size = len(full_dataset)\n",
    "train_size = int(0.8 * total_size)\n",
    "test_size = total_size - train_size\n",
    "train_dataset, test_dataset = random_split(full_dataset, [train_size, test_size])"
   ]
  },
  {
   "cell_type": "code",
   "execution_count": 6,
   "id": "8fc54d01",
   "metadata": {
    "execution": {
     "iopub.execute_input": "2025-03-29T22:57:42.319220Z",
     "iopub.status.busy": "2025-03-29T22:57:42.318977Z",
     "iopub.status.idle": "2025-03-29T22:57:42.323582Z",
     "shell.execute_reply": "2025-03-29T22:57:42.322874Z"
    },
    "papermill": {
     "duration": 0.009403,
     "end_time": "2025-03-29T22:57:42.324887",
     "exception": false,
     "start_time": "2025-03-29T22:57:42.315484",
     "status": "completed"
    },
    "tags": []
   },
   "outputs": [
    {
     "name": "stdout",
     "output_type": "stream",
     "text": [
      "Data loaded\n"
     ]
    }
   ],
   "source": [
    "train_loader = DataLoader(train_dataset,batch_size = 32,shuffle = True)\n",
    "test_loader = DataLoader(test_dataset,batch_size = 32,shuffle = True)\n",
    "print(\"Data loaded\")"
   ]
  },
  {
   "cell_type": "code",
   "execution_count": 7,
   "id": "1ff353a0",
   "metadata": {
    "execution": {
     "iopub.execute_input": "2025-03-29T22:57:42.331733Z",
     "iopub.status.busy": "2025-03-29T22:57:42.331530Z",
     "iopub.status.idle": "2025-03-29T22:57:42.335109Z",
     "shell.execute_reply": "2025-03-29T22:57:42.334534Z"
    },
    "papermill": {
     "duration": 0.008234,
     "end_time": "2025-03-29T22:57:42.336182",
     "exception": false,
     "start_time": "2025-03-29T22:57:42.327948",
     "status": "completed"
    },
    "tags": []
   },
   "outputs": [],
   "source": [
    "import torch.nn.functional as F"
   ]
  },
  {
   "cell_type": "code",
   "execution_count": 8,
   "id": "1620d5c3",
   "metadata": {
    "execution": {
     "iopub.execute_input": "2025-03-29T22:57:42.342769Z",
     "iopub.status.busy": "2025-03-29T22:57:42.342548Z",
     "iopub.status.idle": "2025-03-29T22:57:42.355438Z",
     "shell.execute_reply": "2025-03-29T22:57:42.354631Z"
    },
    "papermill": {
     "duration": 0.017581,
     "end_time": "2025-03-29T22:57:42.356756",
     "exception": false,
     "start_time": "2025-03-29T22:57:42.339175",
     "status": "completed"
    },
    "tags": []
   },
   "outputs": [],
   "source": [
    "\n",
    "class ResidualBlock(nn.Module):\n",
    "    def __init__(self, in_channels, out_channels, stride=1):\n",
    "        super(ResidualBlock, self).__init__()\n",
    "        self.conv1 = nn.Conv2d(in_channels, out_channels, kernel_size=3, stride=stride, padding=1, bias=False)\n",
    "        self.bn1 = nn.BatchNorm2d(out_channels)\n",
    "        self.conv2 = nn.Conv2d(out_channels, out_channels, kernel_size=3, stride=1, padding=1, bias=False)\n",
    "        self.bn2 = nn.BatchNorm2d(out_channels)\n",
    "\n",
    "        self.shortcut = nn.Sequential()\n",
    "        if stride != 1 or in_channels != out_channels:\n",
    "            self.shortcut = nn.Sequential(\n",
    "                nn.Conv2d(in_channels, out_channels, kernel_size=1, stride=stride, bias=False),\n",
    "                nn.BatchNorm2d(out_channels)\n",
    "            )\n",
    "\n",
    "    def forward(self, x):\n",
    "        out = F.relu(self.bn1(self.conv1(x)))\n",
    "        out = self.bn2(self.conv2(out))\n",
    "        out += self.shortcut(x)\n",
    "        return F.relu(out)\n",
    "\n",
    "class ResNet15(nn.Module):\n",
    "    def __init__(self, num_classes=1):  \n",
    "        super(ResNet15, self).__init__()\n",
    "\n",
    "        self.conv1_a = nn.Conv2d(1, 64, kernel_size=3, stride=1, padding=1, bias=False)\n",
    "        self.bn1_a = nn.BatchNorm2d(64)\n",
    "\n",
    "        self.conv1_b = nn.Conv2d(1, 64, kernel_size=3, stride=1, padding=1, bias=False)\n",
    "        self.bn1_b = nn.BatchNorm2d(64)\n",
    "\n",
    "        self.layer1 = self._make_layer(128, 128, 2, stride=1)\n",
    "        self.layer2 = self._make_layer(128, 256, 2, stride=2)\n",
    "        self.layer3 = self._make_layer(256, 512, 2, stride=2)\n",
    "\n",
    "        self.fc = nn.Linear(512, num_classes)\n",
    "\n",
    "    def _make_layer(self, in_channels, out_channels, blocks, stride):\n",
    "        layers = [ResidualBlock(in_channels, out_channels, stride)]\n",
    "        for _ in range(1, blocks):\n",
    "            layers.append(ResidualBlock(out_channels, out_channels))\n",
    "        return nn.Sequential(*layers)\n",
    "\n",
    "    def forward(self, x1, x2):\n",
    "        out1 = F.relu(self.bn1_a(self.conv1_a(x1)))\n",
    "\n",
    "        out2 = F.relu(self.bn1_b(self.conv1_b(x2)))\n",
    "\n",
    "        out = torch.cat((out1, out2), dim=1)  \n",
    "\n",
    "        out = self.layer1(out)\n",
    "        out = self.layer2(out)\n",
    "        out = self.layer3(out)\n",
    "        out = F.adaptive_avg_pool2d(out, 1)  \n",
    "        out = torch.flatten(out, 1)\n",
    "        out = self.fc(out)\n",
    "        out = F.sigmoid(out)\n",
    "        return out\n"
   ]
  },
  {
   "cell_type": "code",
   "execution_count": 9,
   "id": "70b5e0c0",
   "metadata": {
    "execution": {
     "iopub.execute_input": "2025-03-29T22:57:42.363701Z",
     "iopub.status.busy": "2025-03-29T22:57:42.363486Z",
     "iopub.status.idle": "2025-03-29T22:57:42.367201Z",
     "shell.execute_reply": "2025-03-29T22:57:42.366644Z"
    },
    "papermill": {
     "duration": 0.00854,
     "end_time": "2025-03-29T22:57:42.368382",
     "exception": false,
     "start_time": "2025-03-29T22:57:42.359842",
     "status": "completed"
    },
    "tags": []
   },
   "outputs": [],
   "source": [
    "# class ResidualBlock(nn.Module):\n",
    "#     def __init__(self, in_channels, out_channels, downsample=False):\n",
    "#         super(ResidualBlock, self).__init__()\n",
    "#         stride = 2 if downsample else 1  \n",
    "#         self.conv1 = nn.Conv2d(in_channels, out_channels, kernel_size=3, stride=stride, padding=1, bias=False)\n",
    "#         self.bn1 = nn.BatchNorm2d(out_channels)\n",
    "#         self.relu = nn.ReLU(inplace=True)\n",
    "#         self.conv2 = nn.Conv2d(out_channels, out_channels, kernel_size=3, stride=1, padding=1, bias=False)\n",
    "#         self.bn2 = nn.BatchNorm2d(out_channels)\n",
    "\n",
    "#         self.shortcut = nn.Sequential()\n",
    "#         if downsample or in_channels != out_channels:\n",
    "#             self.shortcut = nn.Sequential(\n",
    "#                 nn.Conv2d(in_channels, out_channels, kernel_size=1, stride=stride, bias=False),\n",
    "#                 nn.BatchNorm2d(out_channels)\n",
    "#             )\n",
    "\n",
    "#     def forward(self, x):\n",
    "#         identity = self.shortcut(x)\n",
    "#         out = self.conv1(x)\n",
    "#         out = self.bn1(out)\n",
    "#         out = self.relu(out)\n",
    "#         out = self.conv2(out)\n",
    "#         out = self.bn2(out)\n",
    "#         out += identity \n",
    "#         out = self.relu(out)\n",
    "#         return out\n",
    "\n",
    "# class ResNet15(nn.Module):\n",
    "#     def __init__(self, num_classes=1):\n",
    "#         super(ResNet15, self).__init__()\n",
    "#         self.ch1_conv1 = nn.Conv2d(1, 64, kernel_size=3, stride=1, padding=1, bias=False)\n",
    "#         self.ch1_bn1 = nn.BatchNorm2d(64)\n",
    "        \n",
    "#         self.ch2_conv1 = nn.Conv2d(1, 64, kernel_size=3, stride=1, padding=1, bias=False)\n",
    "#         self.ch2_bn1 = nn.BatchNorm2d(64)\n",
    "        \n",
    "#         self.relu = nn.ReLU(inplace=True)\n",
    "        \n",
    "#         self.ch2_layer1 = self._make_res_layers(64, 128, blocks=2, downsample=True)\n",
    "#         # self.ch2_layer2 = self._make_res_layers(64, 128, blocks=2, downsample=True)\n",
    "#         self.ch2_layer3 = self._make_res_layers(128, 256, blocks=2, downsample=True)\n",
    "#         # self.ch2_layer4 = self._make_res_layers(256, 512, blocks=2, downsample=True)\n",
    "\n",
    "#         self.ch1_layer1 = self._make_res_layers(64, 128, blocks=2, downsample=True)\n",
    "#         # self.ch1_layer2 = self._make_res_layers(64, 128, blocks=2, downsample=True)\n",
    "#         self.ch1_layer3 = self._make_res_layers(128, 256, blocks=2, downsample=True)\n",
    "#         # self.ch1_layer4 = self._make_res_layers(256, 512, blocks=2, downsample=True)\n",
    "#         # self.layer5 = self._make_res_layers(512, 256, blocks=2, downsample=True)\n",
    "#         # self.layer6 = self._make_res_layers(256, 128, blocks=2, downsample=False)\n",
    "#         # self.layer7 = self._make_res_layers(128, 64, blocks=2, downsample=False)\n",
    "#         # self.layer8 = self._make_res_layers(64, 64, blocks=2, downsample=False)\n",
    "        \n",
    "\n",
    "#         self.ch1_fc1 = nn.Linear(32768, 1024)\n",
    "#         # self.ch1_fc2 = nn.Linear(1024, 64)\n",
    "#         # # self.ch1_fc3 = nn.Linear(256, 128)\n",
    "#         self.ch1_fc = nn.Linear(1024, num_classes)\n",
    "        \n",
    "#         # self.ch2_fc1 = nn.Linear(8192, num_classes)\n",
    "#         # self.ch2_fc2 = nn.Linear(1024, 256)\n",
    "#         # # self.ch2_fc3 = nn.Linear(256, 128)\n",
    "#         # self.ch2_fc = nn.Linear(256, num_classes)\n",
    "        \n",
    "#         self.sigmoid = nn.Sigmoid()\n",
    "\n",
    "#     def _make_res_layers(self, in_channels, out_channels, blocks, downsample):\n",
    "#         layers = []\n",
    "#         layers.append(ResidualBlock(in_channels, out_channels, downsample=downsample))\n",
    "#         for _ in range(1, blocks):\n",
    "#             layers.append(ResidualBlock(out_channels, out_channels, downsample=False))\n",
    "#         return nn.Sequential(*layers)\n",
    "\n",
    "#     def _forward_features(self, x1,x2):\n",
    "#         x1 = self.ch1_conv1(x1)\n",
    "#         x1 = self.ch1_bn1(x1)\n",
    "#         x1 = self.relu(x1)\n",
    "#         x1 = self.ch1_layer1(x1)\n",
    "#         # x1 = self.ch1_layer2(x1)\n",
    "#         x1 = self.ch1_layer3(x1)\n",
    "#         # x1 = self.ch1_layer4(x1)\n",
    "\n",
    "#         x2 = self.ch2_conv1(x2)\n",
    "#         x2 = self.ch2_bn1(x2)\n",
    "#         x2 = self.relu(x2)\n",
    "#         x2 = self.ch2_layer1(x2)\n",
    "#         # x2 = self.ch2_layer2(x2)\n",
    "#         x2 = self.ch2_layer3(x2)\n",
    "#         # x2 = self.ch2_layer4(x2)\n",
    "#         # x = self.layer5(x)\n",
    "#         # x = self.layer6(x)\n",
    "#         # x = self.layer7(x)\n",
    "#         # x = self.layer8(x)\n",
    "#         return x1, x2\n",
    "\n",
    "#     def forward(self, x1,x2):\n",
    "#         batch = x1.shape[0]\n",
    "#         # print(\"x shape:\",x.shape)\n",
    "#         x1,x2 = self._forward_features(x1,x2)\n",
    "#         # x1 = self._forward_features(x1)\n",
    "#         # x2 = self._forward_features(x2)\n",
    "#         # print(\"X1 shape:\",x1.shape,\" X2 shape:\",x2.shape)\n",
    "#         x = x1+x2\n",
    "#         x = torch.concat([x1,x2],dim =1)\n",
    "#         print(\"X shape\",x.shape)\n",
    "#         x = x.view(batch,-1)\n",
    "#         print(\"X shape\",x.shape)\n",
    "#         # x = x.view(batch,-1)\n",
    "#         # x1 = x1.reshape(batch, -1)\n",
    "#         # x2 = x2.reshape(batch, -1)\n",
    "#         # print(\"X1 shape:\",x1.shape,\" X2 shape:\",x2.shape)\n",
    "#         # print(x.shape)\n",
    "#         x = self.ch1_fc1(x)\n",
    "#         # x = self.ch1_fc2(x)\n",
    "#         # x1 = self.ch1_fc3(x1)\n",
    "#         x = self.ch1_fc(x)\n",
    "\n",
    "#         # x2 = self.ch2_fc1(x2)\n",
    "#         # x2 = self.ch2_fc2(x2)\n",
    "#         # # x2 = self.ch2_fc3(x2)\n",
    "#         # x2 = self.ch2_fc(x2)\n",
    "#         # print(\"X1 shape:\",x1.shape,\" X2 shape:\",x2.shape)\n",
    "#         # x = x1+x2\n",
    "#         # print(\"Concat X shape:\",x.shape)\n",
    "#         x = self.sigmoid(x)\n",
    "#         return x\n",
    "        "
   ]
  },
  {
   "cell_type": "code",
   "execution_count": 10,
   "id": "134ecc8c",
   "metadata": {
    "execution": {
     "iopub.execute_input": "2025-03-29T22:57:42.375006Z",
     "iopub.status.busy": "2025-03-29T22:57:42.374801Z",
     "iopub.status.idle": "2025-03-29T22:57:42.743602Z",
     "shell.execute_reply": "2025-03-29T22:57:42.742717Z"
    },
    "papermill": {
     "duration": 0.373557,
     "end_time": "2025-03-29T22:57:42.744980",
     "exception": false,
     "start_time": "2025-03-29T22:57:42.371423",
     "status": "completed"
    },
    "tags": []
   },
   "outputs": [
    {
     "name": "stdout",
     "output_type": "stream",
     "text": [
      "Model Created\n"
     ]
    }
   ],
   "source": [
    "device = torch.device('cuda' if torch.cuda.is_available() else 'cpu')\n",
    "model = ResNet15().to(device)\n",
    "criterion = nn.BCELoss()\n",
    "optimizer = optim.AdamW(model.parameters(), lr=0.001, weight_decay=1e-4)\n",
    "scheduler = CosineAnnealingLR(optimizer, T_max=40)\n",
    "print(\"Model Created\")"
   ]
  },
  {
   "cell_type": "code",
   "execution_count": 11,
   "id": "e3146684",
   "metadata": {
    "execution": {
     "iopub.execute_input": "2025-03-29T22:57:42.752036Z",
     "iopub.status.busy": "2025-03-29T22:57:42.751802Z",
     "iopub.status.idle": "2025-03-29T22:57:42.754612Z",
     "shell.execute_reply": "2025-03-29T22:57:42.753992Z"
    },
    "papermill": {
     "duration": 0.00764,
     "end_time": "2025-03-29T22:57:42.755863",
     "exception": false,
     "start_time": "2025-03-29T22:57:42.748223",
     "status": "completed"
    },
    "tags": []
   },
   "outputs": [],
   "source": [
    "# from tqdm import tqdm"
   ]
  },
  {
   "cell_type": "code",
   "execution_count": 12,
   "id": "88b7bb87",
   "metadata": {
    "execution": {
     "iopub.execute_input": "2025-03-29T22:57:42.762837Z",
     "iopub.status.busy": "2025-03-29T22:57:42.762630Z",
     "iopub.status.idle": "2025-03-30T04:20:09.747129Z",
     "shell.execute_reply": "2025-03-30T04:20:09.746148Z"
    },
    "papermill": {
     "duration": 19346.994326,
     "end_time": "2025-03-30T04:20:09.753298",
     "exception": false,
     "start_time": "2025-03-29T22:57:42.758972",
     "status": "completed"
    },
    "tags": []
   },
   "outputs": [
    {
     "name": "stdout",
     "output_type": "stream",
     "text": [
      "Training started...\n",
      "Loss: 0.5918971218761191\n",
      "Loss: 0.5583701790001497\n",
      "Loss: 0.5490537451381186\n",
      "Loss: 0.5442014886600426\n",
      "Loss: 0.5403433905332443\n",
      "Loss: 0.5372819563159981\n",
      "Loss: 0.5350493599731759\n",
      "Loss: 0.5330264943885995\n",
      "Loss: 0.5306217237050275\n",
      "Loss: 0.5282131755615334\n",
      "Loss: 0.5257458474908967\n",
      "Loss: 0.5237022580679161\n",
      "Loss: 0.5208496096048011\n",
      "Loss: 0.5180644132956922\n",
      "Loss: 0.5148176540189\n",
      "Loss: 0.5101966397027414\n",
      "Loss: 0.5047020539892725\n",
      "Loss: 0.4964261082987709\n",
      "Loss: 0.48569670734755005\n",
      "Loss: 0.4700968554209035\n",
      "Loss: 0.4496946616847831\n",
      "Loss: 0.42354490299780206\n",
      "Loss: 0.3927110973072339\n",
      "Loss: 0.36048213277595587\n",
      "Loss: 0.32824490973568826\n",
      "Loss: 0.2966570894976696\n",
      "Loss: 0.2671622339863495\n",
      "Loss: 0.24085952368097371\n",
      "Loss: 0.21558944423933585\n",
      "Loss: 0.19413786915336628\n",
      "Loss: 0.1752238166038261\n",
      "Loss: 0.15833428534002128\n",
      "Loss: 0.14261104156775586\n",
      "Loss: 0.12954482039257165\n",
      "Loss: 0.11851515242792517\n",
      "Loss: 0.10831647383838323\n",
      "Loss: 0.10010486086615432\n",
      "Loss: 0.09255268544075547\n",
      "Loss: 0.08609466269958285\n",
      "Loss: 0.08120789917077435\n",
      "Loss: 0.07566067257152691\n",
      "Loss: 0.07130901362482331\n",
      "Loss: 0.06786169352839293\n",
      "Loss: 0.06525078943276957\n",
      "Loss: 0.06100678090139827\n",
      "Loss: 0.0585527196480008\n",
      "Loss: 0.0554788213492143\n",
      "Loss: 0.052792535535965475\n",
      "Loss: 0.05196126827852797\n",
      "Loss: 0.049149135798705605\n",
      "Training Finished\n"
     ]
    }
   ],
   "source": [
    "num_epochs = 50\n",
    "train_losses = []\n",
    "print(\"Training started...\")\n",
    "for epoch in range(num_epochs):\n",
    "    model.train()\n",
    "    running_loss = 0.0\n",
    "    # acc_loss = 0\n",
    "    count = 0\n",
    "    for img1,img2, labels in (train_loader):\n",
    "        # print(\"img shape in loader: \",img1.shape)\n",
    "        # img = img.permute(0, 3, 1, 2)\n",
    "        # print(\"Label shape:\", labels.shape)\n",
    "        # print(labels)\n",
    "        batch = img1.shape[0]\n",
    "        img1,img2, labels = img1.to(device),img2.to(device), labels.to(device)\n",
    "        img1 = img1.view(batch,1,32,32)\n",
    "        # print(\"img shape in loader: \",img1.shape)\n",
    "        img2 = img2.view(batch,1,32,32)\n",
    "        optimizer.zero_grad()\n",
    "        outputs = model(img1,img2)\n",
    "        # print(\"Output shape:\", outputs.shape)\n",
    "        # print(outputs)\n",
    "        \n",
    "        labels = labels.float()\n",
    "        outputs = outputs.view(-1)\n",
    "        # print(\"Output shape:\", outputs.shape, \"Output dtype:\", outputs.dtype)\n",
    "        # print(\"Label shape:\", labels.shape, \"Label dtype:\", labels.dtype)\n",
    "        loss = criterion(outputs, labels)\n",
    "        # print(loss)\n",
    "        # acc_loss += loss\n",
    "        count+=1\n",
    "        # if count %100==0:\n",
    "        #     print(acc_loss/count)\n",
    "        loss.backward()\n",
    "        optimizer.step()\n",
    "        running_loss += loss.item()\n",
    "    print(f\"Loss: {running_loss/count}\")\n",
    "    train_losses.append(running_loss/count)\n",
    "\n",
    "print(\"Training Finished\")"
   ]
  },
  {
   "cell_type": "code",
   "execution_count": 13,
   "id": "4484992d",
   "metadata": {
    "execution": {
     "iopub.execute_input": "2025-03-30T04:20:09.765497Z",
     "iopub.status.busy": "2025-03-30T04:20:09.765208Z",
     "iopub.status.idle": "2025-03-30T04:20:09.837614Z",
     "shell.execute_reply": "2025-03-30T04:20:09.836568Z"
    },
    "papermill": {
     "duration": 0.080397,
     "end_time": "2025-03-30T04:20:09.839175",
     "exception": false,
     "start_time": "2025-03-30T04:20:09.758778",
     "status": "completed"
    },
    "tags": []
   },
   "outputs": [],
   "source": [
    "torch.save(model.state_dict(), \"resnet15_like_weights.pth\")"
   ]
  },
  {
   "cell_type": "code",
   "execution_count": 14,
   "id": "f245bcb4",
   "metadata": {
    "execution": {
     "iopub.execute_input": "2025-03-30T04:20:09.851456Z",
     "iopub.status.busy": "2025-03-30T04:20:09.851174Z",
     "iopub.status.idle": "2025-03-30T04:20:10.156517Z",
     "shell.execute_reply": "2025-03-30T04:20:10.155740Z"
    },
    "papermill": {
     "duration": 0.313,
     "end_time": "2025-03-30T04:20:10.158000",
     "exception": false,
     "start_time": "2025-03-30T04:20:09.845000",
     "status": "completed"
    },
    "tags": []
   },
   "outputs": [
    {
     "data": {
      "image/png": "[encoded data removed]",
      "text/plain": [
       "<Figure size 640x480 with 1 Axes>"
      ]
     },
     "metadata": {},
     "output_type": "display_data"
    }
   ],
   "source": [
    "plt.figure()\n",
    "plt.plot(range(1, num_epochs+1), train_losses, label='Train Loss')\n",
    "plt.xlabel('Epoch')\n",
    "plt.ylabel('Loss')\n",
    "plt.title('Training Loss Over Epochs')\n",
    "plt.legend()\n",
    "plt.show()"
   ]
  },
  {
   "cell_type": "code",
   "execution_count": 15,
   "id": "9537a0b6",
   "metadata": {
    "execution": {
     "iopub.execute_input": "2025-03-30T04:20:10.244084Z",
     "iopub.status.busy": "2025-03-30T04:20:10.243800Z",
     "iopub.status.idle": "2025-03-30T04:22:20.476060Z",
     "shell.execute_reply": "2025-03-30T04:22:20.475157Z"
    },
    "papermill": {
     "duration": 130.240906,
     "end_time": "2025-03-30T04:22:20.477576",
     "exception": false,
     "start_time": "2025-03-30T04:20:10.236670",
     "status": "completed"
    },
    "tags": []
   },
   "outputs": [
    {
     "data": {
      "image/png": "[encoded data removed]",
      "text/plain": [
       "<Figure size 1500x600 with 3 Axes>"
      ]
     },
     "metadata": {},
     "output_type": "display_data"
    },
    {
     "name": "stdout",
     "output_type": "stream",
     "text": [
      "AUC Score: 0.9990\n",
      "Optimal Threshold: 0.5225\n",
      "Precision: 0.9872\n",
      "Recall: 0.9849\n",
      "F1 Score: 0.9860\n",
      "Accuracy: 0.9861\n"
     ]
    }
   ],
   "source": [
    "from sklearn.metrics import roc_curve, auc, roc_auc_score, confusion_matrix\n",
    "import seaborn as sns\n",
    "\n",
    "\n",
    "model.eval()\n",
    "y_true = []\n",
    "y_scores = []\n",
    "\n",
    "with torch.no_grad():\n",
    "    for img1,img2, labels in (train_loader):\n",
    "        # print(img1.shape)\n",
    "        batch = img1.shape[0]\n",
    "        img1,img2, labels = img1.to(device),img2.to(device), labels.to(device)\n",
    "        img1 = img1.view(batch,1,32,32)\n",
    "        img2 = img2.view(batch,1,32,32)\n",
    "        outputs = model(img1,img2)\n",
    "            \n",
    "        # probabilities = outputs.cpu().numpy()[:, 1]\n",
    "        probabilities = outputs.cpu().numpy().flatten()\n",
    "            \n",
    "        y_true.extend(labels.cpu().numpy())\n",
    "        y_scores.extend(probabilities)\n",
    "        \n",
    "y_true = np.array(y_true)\n",
    "y_scores = np.array(y_scores)\n",
    "    \n",
    "\n",
    "fpr, tpr, thresholds = roc_curve(y_true, y_scores)\n",
    "roc_auc = auc(fpr, tpr)\n",
    "    \n",
    "fig, (ax1, ax2) = plt.subplots(1, 2, figsize=(15, 6))\n",
    "    \n",
    "ax1.plot(fpr, tpr, color='darkorange', lw=2,label=f'ROC curve (AUC = {roc_auc:.2f})')\n",
    "ax1.plot([0, 1], [0, 1], color='navy', lw=2, linestyle='--')\n",
    "ax1.set_xlim([0.0, 1.0])\n",
    "ax1.set_ylim([0.0, 1.05])\n",
    "ax1.set_xlabel('False Positive Rate')\n",
    "ax1.set_ylabel('True Positive Rate')\n",
    "ax1.set_title('Receiver Operating Characteristic (ROC) Curve')\n",
    "ax1.legend(loc=\"lower right\")\n",
    "    \n",
    "y_pred = (y_scores >= 0.5).astype(int)\n",
    "\n",
    "cm = confusion_matrix(y_true, y_pred)\n",
    "sns.heatmap(cm, annot=True, fmt='d', cmap='Blues', ax=ax2)\n",
    "ax2.set_xlabel('Predicted Label')\n",
    "ax2.set_ylabel('True Label')\n",
    "ax2.set_title('Confusion Matrix')\n",
    "    \n",
    "plt.tight_layout()\n",
    "plt.show()\n",
    "\n",
    "optimal_idx = np.argmax(tpr - fpr)\n",
    "optimal_threshold = thresholds[optimal_idx]\n",
    "    \n",
    "\n",
    "from sklearn.metrics import precision_score, recall_score, f1_score\n",
    "precision = precision_score(y_true, y_pred)\n",
    "recall = recall_score(y_true, y_pred)\n",
    "f1 = f1_score(y_true, y_pred)\n",
    "    \n",
    "print(f\"AUC Score: {roc_auc:.4f}\")\n",
    "print(f\"Optimal Threshold: {optimal_threshold:.4f}\")\n",
    "print(f\"Precision: {precision:.4f}\")\n",
    "print(f\"Recall: {recall:.4f}\")\n",
    "print(f\"F1 Score: {f1:.4f}\")\n",
    "print(f\"Accuracy: {np.mean(y_pred == y_true):.4f}\")"
   ]
  }
 ],
 "metadata": {
  "kaggle": {
   "accelerator": "gpu",
   "dataSources": [
    {
     "datasetId": 6844145,
     "sourceId": 10995179,
     "sourceType": "datasetVersion"
    }
   ],
   "dockerImageVersionId": 30919,
   "isGpuEnabled": true,
   "isInternetEnabled": true,
   "language": "python",
   "sourceType": "notebook"
  },
  "kernelspec": {
   "display_name": "Python 3",
   "language": "python",
   "name": "python3"
  },
  "language_info": {
   "codemirror_mode": {
    "name": "ipython",
    "version": 3
   },
   "file_extension": ".py",
   "mimetype": "text/x-python",
   "name": "python",
   "nbconvert_exporter": "python",
   "pygments_lexer": "ipython3",
   "version": "3.10.12"
  },
  "papermill": {
   "default_parameters": {},
   "duration": 19505.793794,
   "end_time": "2025-03-30T04:22:22.878728",
   "environment_variables": {},
   "exception": null,
   "input_path": "__notebook__.ipynb",
   "output_path": "__notebook__.ipynb",
   "parameters": {},
   "start_time": "2025-03-29T22:57:17.084934",
   "version": "2.6.0"
  }
 },
 "nbformat": 4,
 "nbformat_minor": 5
}
